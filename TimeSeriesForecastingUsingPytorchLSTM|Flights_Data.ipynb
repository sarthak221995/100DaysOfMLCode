{
  "nbformat": 4,
  "nbformat_minor": 0,
  "metadata": {
    "colab": {
      "name": "TimeSeriesForecastingUsingPytorchLSTM|Flights Data",
      "provenance": [],
      "authorship_tag": "ABX9TyOu8M0S0btUvVp7HhgqOYtf",
      "include_colab_link": true
    },
    "kernelspec": {
      "name": "python3",
      "display_name": "Python 3"
    },
    "accelerator": "GPU"
  },
  "cells": [
    {
      "cell_type": "markdown",
      "metadata": {
        "id": "view-in-github",
        "colab_type": "text"
      },
      "source": [
        "<a href=\"https://colab.research.google.com/github/sarthak221995/100DaysOfMLCode/blob/master/TimeSeriesForecastingUsingPytorchLSTM%7CFlights_Data.ipynb\" target=\"_parent\"><img src=\"https://colab.research.google.com/assets/colab-badge.svg\" alt=\"Open In Colab\"/></a>"
      ]
    },
    {
      "cell_type": "code",
      "metadata": {
        "id": "YQwLvY4P6fo5",
        "colab_type": "code",
        "outputId": "6a7c2b7e-0dae-46b3-b597-c0f7a1f58723",
        "colab": {
          "base_uri": "https://localhost:8080/",
          "height": 71
        }
      },
      "source": [
        "import torch\n",
        "import torch.nn as nn\n",
        "import seaborn as sns\n",
        "import numpy as np\n",
        "import pandas as pd\n",
        "import matplotlib.pyplot as plt\n",
        "%matplotlib inline"
      ],
      "execution_count": 0,
      "outputs": [
        {
          "output_type": "stream",
          "text": [
            "/usr/local/lib/python3.6/dist-packages/statsmodels/tools/_testing.py:19: FutureWarning: pandas.util.testing is deprecated. Use the functions in the public API at pandas.testing instead.\n",
            "  import pandas.util.testing as tm\n"
          ],
          "name": "stderr"
        }
      ]
    },
    {
      "cell_type": "code",
      "metadata": {
        "id": "DFN7kCvs6uLB",
        "colab_type": "code",
        "outputId": "bf4de77d-46e8-4622-e17e-5713b736f332",
        "colab": {
          "base_uri": "https://localhost:8080/",
          "height": 377
        }
      },
      "source": [
        "sns.get_dataset_names()"
      ],
      "execution_count": 0,
      "outputs": [
        {
          "output_type": "stream",
          "text": [
            "/usr/local/lib/python3.6/dist-packages/seaborn/utils.py:384: UserWarning: No parser was explicitly specified, so I'm using the best available HTML parser for this system (\"lxml\"). This usually isn't a problem, but if you run this code on another system, or in a different virtual environment, it may use a different parser and behave differently.\n",
            "\n",
            "The code that caused this warning is on line 384 of the file /usr/local/lib/python3.6/dist-packages/seaborn/utils.py. To get rid of this warning, pass the additional argument 'features=\"lxml\"' to the BeautifulSoup constructor.\n",
            "\n",
            "  gh_list = BeautifulSoup(http)\n"
          ],
          "name": "stderr"
        },
        {
          "output_type": "execute_result",
          "data": {
            "text/plain": [
              "['anscombe',\n",
              " 'attention',\n",
              " 'brain_networks',\n",
              " 'car_crashes',\n",
              " 'diamonds',\n",
              " 'dots',\n",
              " 'exercise',\n",
              " 'flights',\n",
              " 'fmri',\n",
              " 'gammas',\n",
              " 'iris',\n",
              " 'mpg',\n",
              " 'planets',\n",
              " 'tips',\n",
              " 'titanic']"
            ]
          },
          "metadata": {
            "tags": []
          },
          "execution_count": 3
        }
      ]
    },
    {
      "cell_type": "code",
      "metadata": {
        "id": "_5EE_sjw755T",
        "colab_type": "code",
        "outputId": "55fb446e-99f7-47dc-f8f9-d74166c72e34",
        "colab": {
          "base_uri": "https://localhost:8080/",
          "height": 204
        }
      },
      "source": [
        "flight_data = sns.load_dataset(\"flights\")\n",
        "flight_data.head()"
      ],
      "execution_count": 0,
      "outputs": [
        {
          "output_type": "execute_result",
          "data": {
            "text/html": [
              "<div>\n",
              "<style scoped>\n",
              "    .dataframe tbody tr th:only-of-type {\n",
              "        vertical-align: middle;\n",
              "    }\n",
              "\n",
              "    .dataframe tbody tr th {\n",
              "        vertical-align: top;\n",
              "    }\n",
              "\n",
              "    .dataframe thead th {\n",
              "        text-align: right;\n",
              "    }\n",
              "</style>\n",
              "<table border=\"1\" class=\"dataframe\">\n",
              "  <thead>\n",
              "    <tr style=\"text-align: right;\">\n",
              "      <th></th>\n",
              "      <th>year</th>\n",
              "      <th>month</th>\n",
              "      <th>passengers</th>\n",
              "    </tr>\n",
              "  </thead>\n",
              "  <tbody>\n",
              "    <tr>\n",
              "      <th>0</th>\n",
              "      <td>1949</td>\n",
              "      <td>January</td>\n",
              "      <td>112</td>\n",
              "    </tr>\n",
              "    <tr>\n",
              "      <th>1</th>\n",
              "      <td>1949</td>\n",
              "      <td>February</td>\n",
              "      <td>118</td>\n",
              "    </tr>\n",
              "    <tr>\n",
              "      <th>2</th>\n",
              "      <td>1949</td>\n",
              "      <td>March</td>\n",
              "      <td>132</td>\n",
              "    </tr>\n",
              "    <tr>\n",
              "      <th>3</th>\n",
              "      <td>1949</td>\n",
              "      <td>April</td>\n",
              "      <td>129</td>\n",
              "    </tr>\n",
              "    <tr>\n",
              "      <th>4</th>\n",
              "      <td>1949</td>\n",
              "      <td>May</td>\n",
              "      <td>121</td>\n",
              "    </tr>\n",
              "  </tbody>\n",
              "</table>\n",
              "</div>"
            ],
            "text/plain": [
              "   year     month  passengers\n",
              "0  1949   January         112\n",
              "1  1949  February         118\n",
              "2  1949     March         132\n",
              "3  1949     April         129\n",
              "4  1949       May         121"
            ]
          },
          "metadata": {
            "tags": []
          },
          "execution_count": 4
        }
      ]
    },
    {
      "cell_type": "code",
      "metadata": {
        "id": "jEe7sy8H8dMz",
        "colab_type": "code",
        "outputId": "c4c42edb-1ff6-4376-8f91-a2c1f3217d3c",
        "colab": {
          "base_uri": "https://localhost:8080/",
          "height": 34
        }
      },
      "source": [
        "flight_data.shape"
      ],
      "execution_count": 0,
      "outputs": [
        {
          "output_type": "execute_result",
          "data": {
            "text/plain": [
              "(144, 3)"
            ]
          },
          "metadata": {
            "tags": []
          },
          "execution_count": 5
        }
      ]
    },
    {
      "cell_type": "code",
      "metadata": {
        "id": "BlRFjV-18nw5",
        "colab_type": "code",
        "outputId": "36dab140-28d0-4daf-c0d1-886e2f1ec65e",
        "colab": {
          "base_uri": "https://localhost:8080/",
          "height": 367
        }
      },
      "source": [
        "fig_size = plt.rcParams[\"figure.figsize\"]\n",
        "fig_size[0] = 15\n",
        "fig_size[1] = 5\n",
        "plt.rcParams[\"figure.figsize\"] = fig_size\n",
        "plt.title('Month vs Passenger')\n",
        "plt.ylabel('Total Passengers')\n",
        "plt.xlabel('Months')\n",
        "plt.grid(True)\n",
        "plt.autoscale(axis='x',tight=True)\n",
        "plt.plot(flight_data['passengers'])"
      ],
      "execution_count": 0,
      "outputs": [
        {
          "output_type": "execute_result",
          "data": {
            "text/plain": [
              "[<matplotlib.lines.Line2D at 0x7fa14b10b518>]"
            ]
          },
          "metadata": {
            "tags": []
          },
          "execution_count": 8
        },
        {
          "output_type": "display_data",
          "data": {
            "image/png": "[encoded data removed]",
            "text/plain": [
              "<Figure size 1080x360 with 1 Axes>"
            ]
          },
          "metadata": {
            "tags": [],
            "needs_background": "light"
          }
        }
      ]
    },
    {
      "cell_type": "code",
      "metadata": {
        "id": "QCIiUpKg80rS",
        "colab_type": "code",
        "outputId": "22560491-51eb-4dfd-8553-5dc2865e282d",
        "colab": {
          "base_uri": "https://localhost:8080/",
          "height": 34
        }
      },
      "source": [
        "flight_data.columns"
      ],
      "execution_count": 0,
      "outputs": [
        {
          "output_type": "execute_result",
          "data": {
            "text/plain": [
              "Index(['year', 'month', 'passengers'], dtype='object')"
            ]
          },
          "metadata": {
            "tags": []
          },
          "execution_count": 9
        }
      ]
    },
    {
      "cell_type": "code",
      "metadata": {
        "id": "oBDg_QXu84Fq",
        "colab_type": "code",
        "colab": {}
      },
      "source": [
        "all_data = flight_data['passengers'].values.astype(float)"
      ],
      "execution_count": 0,
      "outputs": []
    },
    {
      "cell_type": "code",
      "metadata": {
        "id": "pnKv_LAk8-eB",
        "colab_type": "code",
        "colab": {}
      },
      "source": [
        "test_data_size = 12\n",
        "\n",
        "train_data = all_data[:-test_data_size]\n",
        "test_data = all_data[-test_data_size:]"
      ],
      "execution_count": 0,
      "outputs": []
    },
    {
      "cell_type": "code",
      "metadata": {
        "id": "u7yzv3fP9AoI",
        "colab_type": "code",
        "outputId": "f793611d-84a9-4a6d-9dad-536c157f7da2",
        "colab": {
          "base_uri": "https://localhost:8080/",
          "height": 51
        }
      },
      "source": [
        "print(len(train_data))\n",
        "print(len(test_data))"
      ],
      "execution_count": 0,
      "outputs": [
        {
          "output_type": "stream",
          "text": [
            "132\n",
            "12\n"
          ],
          "name": "stdout"
        }
      ]
    },
    {
      "cell_type": "code",
      "metadata": {
        "id": "c3yw_4I99Giq",
        "colab_type": "code",
        "colab": {}
      },
      "source": [
        "from sklearn.preprocessing import MinMaxScaler\n",
        "\n",
        "scaler = MinMaxScaler(feature_range=(-1, 1))\n",
        "train_data_normalized = scaler.fit_transform(train_data .reshape(-1, 1))"
      ],
      "execution_count": 0,
      "outputs": []
    },
    {
      "cell_type": "code",
      "metadata": {
        "id": "Y4vpi1fa9PLT",
        "colab_type": "code",
        "colab": {}
      },
      "source": [
        "train_data_normalized = torch.FloatTensor(train_data_normalized).view(-1)"
      ],
      "execution_count": 0,
      "outputs": []
    },
    {
      "cell_type": "code",
      "metadata": {
        "id": "E5ahoJ89_Bz-",
        "colab_type": "code",
        "colab": {}
      },
      "source": [
        "train_window = 12"
      ],
      "execution_count": 0,
      "outputs": []
    },
    {
      "cell_type": "code",
      "metadata": {
        "id": "SIKXAYuN_HQ-",
        "colab_type": "code",
        "colab": {}
      },
      "source": [
        "def create_inout_sequences(input_data, tw):\n",
        "    inout_seq = []\n",
        "    L = len(input_data)\n",
        "    for i in range(L-tw):\n",
        "        train_seq = input_data[i:i+tw]\n",
        "        train_label = input_data[i+tw:i+tw+1]\n",
        "        inout_seq.append((train_seq ,train_label))\n",
        "    return inout_seq"
      ],
      "execution_count": 0,
      "outputs": []
    },
    {
      "cell_type": "code",
      "metadata": {
        "id": "kL7W8yyNAaXJ",
        "colab_type": "code",
        "colab": {}
      },
      "source": [
        "train_inout_seq = create_inout_sequences(train_data_normalized, train_window)"
      ],
      "execution_count": 0,
      "outputs": []
    },
    {
      "cell_type": "code",
      "metadata": {
        "id": "zTT6XqSzAca_",
        "colab_type": "code",
        "outputId": "d0901fec-3419-4e4f-bc76-4e2aee98ea46",
        "colab": {
          "base_uri": "https://localhost:8080/",
          "height": 1000
        }
      },
      "source": [
        "train_inout_seq"
      ],
      "execution_count": 0,
      "outputs": [
        {
          "output_type": "execute_result",
          "data": {
            "text/plain": [
              "[(tensor([-0.9648, -0.9385, -0.8769, -0.8901, -0.9253, -0.8637, -0.8066, -0.8066,\n",
              "          -0.8593, -0.9341, -1.0000, -0.9385]), tensor([-0.9516])),\n",
              " (tensor([-0.9385, -0.8769, -0.8901, -0.9253, -0.8637, -0.8066, -0.8066, -0.8593,\n",
              "          -0.9341, -1.0000, -0.9385, -0.9516]),\n",
              "  tensor([-0.9033])),\n",
              " (tensor([-0.8769, -0.8901, -0.9253, -0.8637, -0.8066, -0.8066, -0.8593, -0.9341,\n",
              "          -1.0000, -0.9385, -0.9516, -0.9033]), tensor([-0.8374])),\n",
              " (tensor([-0.8901, -0.9253, -0.8637, -0.8066, -0.8066, -0.8593, -0.9341, -1.0000,\n",
              "          -0.9385, -0.9516, -0.9033, -0.8374]), tensor([-0.8637])),\n",
              " (tensor([-0.9253, -0.8637, -0.8066, -0.8066, -0.8593, -0.9341, -1.0000, -0.9385,\n",
              "          -0.9516, -0.9033, -0.8374, -0.8637]), tensor([-0.9077])),\n",
              " (tensor([-0.8637, -0.8066, -0.8066, -0.8593, -0.9341, -1.0000, -0.9385, -0.9516,\n",
              "          -0.9033, -0.8374, -0.8637, -0.9077]), tensor([-0.8022])),\n",
              " (tensor([-0.8066, -0.8066, -0.8593, -0.9341, -1.0000, -0.9385, -0.9516, -0.9033,\n",
              "          -0.8374, -0.8637, -0.9077, -0.8022]), tensor([-0.7099])),\n",
              " (tensor([-0.8066, -0.8593, -0.9341, -1.0000, -0.9385, -0.9516, -0.9033, -0.8374,\n",
              "          -0.8637, -0.9077, -0.8022, -0.7099]), tensor([-0.7099])),\n",
              " (tensor([-0.8593, -0.9341, -1.0000, -0.9385, -0.9516, -0.9033, -0.8374, -0.8637,\n",
              "          -0.9077, -0.8022, -0.7099, -0.7099]), tensor([-0.7626])),\n",
              " (tensor([-0.9341, -1.0000, -0.9385, -0.9516, -0.9033, -0.8374, -0.8637, -0.9077,\n",
              "          -0.8022, -0.7099, -0.7099, -0.7626]), tensor([-0.8725])),\n",
              " (tensor([-1.0000, -0.9385, -0.9516, -0.9033, -0.8374, -0.8637, -0.9077, -0.8022,\n",
              "          -0.7099, -0.7099, -0.7626, -0.8725]), tensor([-0.9560])),\n",
              " (tensor([-0.9385, -0.9516, -0.9033, -0.8374, -0.8637, -0.9077, -0.8022, -0.7099,\n",
              "          -0.7099, -0.7626, -0.8725, -0.9560]), tensor([-0.8418])),\n",
              " (tensor([-0.9516, -0.9033, -0.8374, -0.8637, -0.9077, -0.8022, -0.7099, -0.7099,\n",
              "          -0.7626, -0.8725, -0.9560, -0.8418]), tensor([-0.8198])),\n",
              " (tensor([-0.9033, -0.8374, -0.8637, -0.9077, -0.8022, -0.7099, -0.7099, -0.7626,\n",
              "          -0.8725, -0.9560, -0.8418, -0.8198]), tensor([-0.7978])),\n",
              " (tensor([-0.8374, -0.8637, -0.9077, -0.8022, -0.7099, -0.7099, -0.7626, -0.8725,\n",
              "          -0.9560, -0.8418, -0.8198, -0.7978]), tensor([-0.6747])),\n",
              " (tensor([-0.8637, -0.9077, -0.8022, -0.7099, -0.7099, -0.7626, -0.8725, -0.9560,\n",
              "          -0.8418, -0.8198, -0.7978, -0.6747]), tensor([-0.7407])),\n",
              " (tensor([-0.9077, -0.8022, -0.7099, -0.7099, -0.7626, -0.8725, -0.9560, -0.8418,\n",
              "          -0.8198, -0.7978, -0.6747, -0.7407]), tensor([-0.7011])),\n",
              " (tensor([-0.8022, -0.7099, -0.7099, -0.7626, -0.8725, -0.9560, -0.8418, -0.8198,\n",
              "          -0.7978, -0.6747, -0.7407, -0.7011]), tensor([-0.6747])),\n",
              " (tensor([-0.7099, -0.7099, -0.7626, -0.8725, -0.9560, -0.8418, -0.8198, -0.7978,\n",
              "          -0.6747, -0.7407, -0.7011, -0.6747]), tensor([-0.5824])),\n",
              " (tensor([-0.7099, -0.7626, -0.8725, -0.9560, -0.8418, -0.8198, -0.7978, -0.6747,\n",
              "          -0.7407, -0.7011, -0.6747, -0.5824]), tensor([-0.5824])),\n",
              " (tensor([-0.7626, -0.8725, -0.9560, -0.8418, -0.8198, -0.7978, -0.6747, -0.7407,\n",
              "          -0.7011, -0.6747, -0.5824, -0.5824]), tensor([-0.6484])),\n",
              " (tensor([-0.8725, -0.9560, -0.8418, -0.8198, -0.7978, -0.6747, -0.7407, -0.7011,\n",
              "          -0.6747, -0.5824, -0.5824, -0.6484]), tensor([-0.7451])),\n",
              " (tensor([-0.9560, -0.8418, -0.8198, -0.7978, -0.6747, -0.7407, -0.7011, -0.6747,\n",
              "          -0.5824, -0.5824, -0.6484, -0.7451]), tensor([-0.8154])),\n",
              " (tensor([-0.8418, -0.8198, -0.7978, -0.6747, -0.7407, -0.7011, -0.6747, -0.5824,\n",
              "          -0.5824, -0.6484, -0.7451, -0.8154]), tensor([-0.7275])),\n",
              " (tensor([-0.8198, -0.7978, -0.6747, -0.7407, -0.7011, -0.6747, -0.5824, -0.5824,\n",
              "          -0.6484, -0.7451, -0.8154, -0.7275]), tensor([-0.7055])),\n",
              " (tensor([-0.7978, -0.6747, -0.7407, -0.7011, -0.6747, -0.5824, -0.5824, -0.6484,\n",
              "          -0.7451, -0.8154, -0.7275, -0.7055]), tensor([-0.6659])),\n",
              " (tensor([-0.6747, -0.7407, -0.7011, -0.6747, -0.5824, -0.5824, -0.6484, -0.7451,\n",
              "          -0.8154, -0.7275, -0.7055, -0.6659]), tensor([-0.6088])),\n",
              " (tensor([-0.7407, -0.7011, -0.6747, -0.5824, -0.5824, -0.6484, -0.7451, -0.8154,\n",
              "          -0.7275, -0.7055, -0.6659, -0.6088]), tensor([-0.6615])),\n",
              " (tensor([-0.7011, -0.6747, -0.5824, -0.5824, -0.6484, -0.7451, -0.8154, -0.7275,\n",
              "          -0.7055, -0.6659, -0.6088, -0.6615]), tensor([-0.6527])),\n",
              " (tensor([-0.6747, -0.5824, -0.5824, -0.6484, -0.7451, -0.8154, -0.7275, -0.7055,\n",
              "          -0.6659, -0.6088, -0.6615, -0.6527]), tensor([-0.4989])),\n",
              " (tensor([-0.5824, -0.5824, -0.6484, -0.7451, -0.8154, -0.7275, -0.7055, -0.6659,\n",
              "          -0.6088, -0.6615, -0.6527, -0.4989]), tensor([-0.4462])),\n",
              " (tensor([-0.5824, -0.6484, -0.7451, -0.8154, -0.7275, -0.7055, -0.6659, -0.6088,\n",
              "          -0.6615, -0.6527, -0.4989, -0.4462]), tensor([-0.3934])),\n",
              " (tensor([-0.6484, -0.7451, -0.8154, -0.7275, -0.7055, -0.6659, -0.6088, -0.6615,\n",
              "          -0.6527, -0.4989, -0.4462, -0.3934]), tensor([-0.5385])),\n",
              " (tensor([-0.7451, -0.8154, -0.7275, -0.7055, -0.6659, -0.6088, -0.6615, -0.6527,\n",
              "          -0.4989, -0.4462, -0.3934, -0.5385]), tensor([-0.6176])),\n",
              " (tensor([-0.8154, -0.7275, -0.7055, -0.6659, -0.6088, -0.6615, -0.6527, -0.4989,\n",
              "          -0.4462, -0.3934, -0.5385, -0.6176]), tensor([-0.7011])),\n",
              " (tensor([-0.7275, -0.7055, -0.6659, -0.6088, -0.6615, -0.6527, -0.4989, -0.4462,\n",
              "          -0.3934, -0.5385, -0.6176, -0.7011]), tensor([-0.6044])),\n",
              " (tensor([-0.7055, -0.6659, -0.6088, -0.6615, -0.6527, -0.4989, -0.4462, -0.3934,\n",
              "          -0.5385, -0.6176, -0.7011, -0.6044]), tensor([-0.5956])),\n",
              " (tensor([-0.6659, -0.6088, -0.6615, -0.6527, -0.4989, -0.4462, -0.3934, -0.5385,\n",
              "          -0.6176, -0.7011, -0.6044, -0.5956]), tensor([-0.5956])),\n",
              " (tensor([-0.6088, -0.6615, -0.6527, -0.4989, -0.4462, -0.3934, -0.5385, -0.6176,\n",
              "          -0.7011, -0.6044, -0.5956, -0.5956]), tensor([-0.4198])),\n",
              " (tensor([-0.6615, -0.6527, -0.4989, -0.4462, -0.3934, -0.5385, -0.6176, -0.7011,\n",
              "          -0.6044, -0.5956, -0.5956, -0.4198]), tensor([-0.4242])),\n",
              " (tensor([-0.6527, -0.4989, -0.4462, -0.3934, -0.5385, -0.6176, -0.7011, -0.6044,\n",
              "          -0.5956, -0.5956, -0.4198, -0.4242]), tensor([-0.4505])),\n",
              " (tensor([-0.4989, -0.4462, -0.3934, -0.5385, -0.6176, -0.7011, -0.6044, -0.5956,\n",
              "          -0.5956, -0.4198, -0.4242, -0.4505]), tensor([-0.3890])),\n",
              " (tensor([-0.4462, -0.3934, -0.5385, -0.6176, -0.7011, -0.6044, -0.5956, -0.5956,\n",
              "          -0.4198, -0.4242, -0.4505, -0.3890]), tensor([-0.2967])),\n",
              " (tensor([-0.3934, -0.5385, -0.6176, -0.7011, -0.6044, -0.5956, -0.5956, -0.4198,\n",
              "          -0.4242, -0.4505, -0.3890, -0.2967]), tensor([-0.2615])),\n",
              " (tensor([-0.5385, -0.6176, -0.7011, -0.6044, -0.5956, -0.5956, -0.4198, -0.4242,\n",
              "          -0.4505, -0.3890, -0.2967, -0.2615]), tensor([-0.4154])),\n",
              " (tensor([-0.6176, -0.7011, -0.6044, -0.5956, -0.5956, -0.4198, -0.4242, -0.4505,\n",
              "          -0.3890, -0.2967, -0.2615, -0.4154]), tensor([-0.5297])),\n",
              " (tensor([-0.7011, -0.6044, -0.5956, -0.5956, -0.4198, -0.4242, -0.4505, -0.3890,\n",
              "          -0.2967, -0.2615, -0.4154, -0.5297]), tensor([-0.6659])),\n",
              " (tensor([-0.6044, -0.5956, -0.5956, -0.4198, -0.4242, -0.4505, -0.3890, -0.2967,\n",
              "          -0.2615, -0.4154, -0.5297, -0.6659]), tensor([-0.5736])),\n",
              " (tensor([-0.5956, -0.5956, -0.4198, -0.4242, -0.4505, -0.3890, -0.2967, -0.2615,\n",
              "          -0.4154, -0.5297, -0.6659, -0.5736]), tensor([-0.5604])),\n",
              " (tensor([-0.5956, -0.4198, -0.4242, -0.4505, -0.3890, -0.2967, -0.2615, -0.4154,\n",
              "          -0.5297, -0.6659, -0.5736, -0.5604]), tensor([-0.6308])),\n",
              " (tensor([-0.4198, -0.4242, -0.4505, -0.3890, -0.2967, -0.2615, -0.4154, -0.5297,\n",
              "          -0.6659, -0.5736, -0.5604, -0.6308]), tensor([-0.4242])),\n",
              " (tensor([-0.4242, -0.4505, -0.3890, -0.2967, -0.2615, -0.4154, -0.5297, -0.6659,\n",
              "          -0.5736, -0.5604, -0.6308, -0.4242]), tensor([-0.4593])),\n",
              " (tensor([-0.4505, -0.3890, -0.2967, -0.2615, -0.4154, -0.5297, -0.6659, -0.5736,\n",
              "          -0.5604, -0.6308, -0.4242, -0.4593]), tensor([-0.4286])),\n",
              " (tensor([-0.3890, -0.2967, -0.2615, -0.4154, -0.5297, -0.6659, -0.5736, -0.5604,\n",
              "          -0.6308, -0.4242, -0.4593, -0.4286]), tensor([-0.2967])),\n",
              " (tensor([-0.2967, -0.2615, -0.4154, -0.5297, -0.6659, -0.5736, -0.5604, -0.6308,\n",
              "          -0.4242, -0.4593, -0.4286, -0.2967]), tensor([-0.1297])),\n",
              " (tensor([-0.2615, -0.4154, -0.5297, -0.6659, -0.5736, -0.5604, -0.6308, -0.4242,\n",
              "          -0.4593, -0.4286, -0.2967, -0.1297]), tensor([-0.1692])),\n",
              " (tensor([-0.4154, -0.5297, -0.6659, -0.5736, -0.5604, -0.6308, -0.4242, -0.4593,\n",
              "          -0.4286, -0.2967, -0.1297, -0.1692]), tensor([-0.3187])),\n",
              " (tensor([-0.5297, -0.6659, -0.5736, -0.5604, -0.6308, -0.4242, -0.4593, -0.4286,\n",
              "          -0.2967, -0.1297, -0.1692, -0.3187]), tensor([-0.4505])),\n",
              " (tensor([-0.6659, -0.5736, -0.5604, -0.6308, -0.4242, -0.4593, -0.4286, -0.2967,\n",
              "          -0.1297, -0.1692, -0.3187, -0.4505]), tensor([-0.5648])),\n",
              " (tensor([-0.5736, -0.5604, -0.6308, -0.4242, -0.4593, -0.4286, -0.2967, -0.1297,\n",
              "          -0.1692, -0.3187, -0.4505, -0.5648]), tensor([-0.4505])),\n",
              " (tensor([-0.5604, -0.6308, -0.4242, -0.4593, -0.4286, -0.2967, -0.1297, -0.1692,\n",
              "          -0.3187, -0.4505, -0.5648, -0.4505]), tensor([-0.3934])),\n",
              " (tensor([-0.6308, -0.4242, -0.4593, -0.4286, -0.2967, -0.1297, -0.1692, -0.3187,\n",
              "          -0.4505, -0.5648, -0.4505, -0.3934]), tensor([-0.4330])),\n",
              " (tensor([-0.4242, -0.4593, -0.4286, -0.2967, -0.1297, -0.1692, -0.3187, -0.4505,\n",
              "          -0.5648, -0.4505, -0.3934, -0.4330]), tensor([-0.2835])),\n",
              " (tensor([-0.4593, -0.4286, -0.2967, -0.1297, -0.1692, -0.3187, -0.4505, -0.5648,\n",
              "          -0.4505, -0.3934, -0.4330, -0.2835]), tensor([-0.2747])),\n",
              " (tensor([-0.4286, -0.2967, -0.1297, -0.1692, -0.3187, -0.4505, -0.5648, -0.4505,\n",
              "          -0.3934, -0.4330, -0.2835, -0.2747]), tensor([-0.2703])),\n",
              " (tensor([-0.2967, -0.1297, -0.1692, -0.3187, -0.4505, -0.5648, -0.4505, -0.3934,\n",
              "          -0.4330, -0.2835, -0.2747, -0.2703]), tensor([-0.0725])),\n",
              " (tensor([-0.1297, -0.1692, -0.3187, -0.4505, -0.5648, -0.4505, -0.3934, -0.4330,\n",
              "          -0.2835, -0.2747, -0.2703, -0.0725]), tensor([0.1429])),\n",
              " (tensor([-0.1692, -0.3187, -0.4505, -0.5648, -0.4505, -0.3934, -0.4330, -0.2835,\n",
              "          -0.2747, -0.2703, -0.0725,  0.1429]), tensor([0.0681])),\n",
              " (tensor([-0.3187, -0.4505, -0.5648, -0.4505, -0.3934, -0.4330, -0.2835, -0.2747,\n",
              "          -0.2703, -0.0725,  0.1429,  0.0681]), tensor([-0.0857])),\n",
              " (tensor([-0.4505, -0.5648, -0.4505, -0.3934, -0.4330, -0.2835, -0.2747, -0.2703,\n",
              "          -0.0725,  0.1429,  0.0681, -0.0857]), tensor([-0.2527])),\n",
              " (tensor([-0.5648, -0.4505, -0.3934, -0.4330, -0.2835, -0.2747, -0.2703, -0.0725,\n",
              "           0.1429,  0.0681, -0.0857, -0.2527]), tensor([-0.4154])),\n",
              " (tensor([-0.4505, -0.3934, -0.4330, -0.2835, -0.2747, -0.2703, -0.0725,  0.1429,\n",
              "           0.0681, -0.0857, -0.2527, -0.4154]), tensor([-0.2352])),\n",
              " (tensor([-0.3934, -0.4330, -0.2835, -0.2747, -0.2703, -0.0725,  0.1429,  0.0681,\n",
              "          -0.0857, -0.2527, -0.4154, -0.2352]), tensor([-0.2088])),\n",
              " (tensor([-0.4330, -0.2835, -0.2747, -0.2703, -0.0725,  0.1429,  0.0681, -0.0857,\n",
              "          -0.2527, -0.4154, -0.2352, -0.2088]), tensor([-0.2396])),\n",
              " (tensor([-0.2835, -0.2747, -0.2703, -0.0725,  0.1429,  0.0681, -0.0857, -0.2527,\n",
              "          -0.4154, -0.2352, -0.2088, -0.2396]), tensor([-0.0637])),\n",
              " (tensor([-0.2747, -0.2703, -0.0725,  0.1429,  0.0681, -0.0857, -0.2527, -0.4154,\n",
              "          -0.2352, -0.2088, -0.2396, -0.0637]), tensor([-0.0813])),\n",
              " (tensor([-0.2703, -0.0725,  0.1429,  0.0681, -0.0857, -0.2527, -0.4154, -0.2352,\n",
              "          -0.2088, -0.2396, -0.0637, -0.0813]), tensor([-0.0593])),\n",
              " (tensor([-0.0725,  0.1429,  0.0681, -0.0857, -0.2527, -0.4154, -0.2352, -0.2088,\n",
              "          -0.2396, -0.0637, -0.0813, -0.0593]), tensor([0.1868])),\n",
              " (tensor([ 0.1429,  0.0681, -0.0857, -0.2527, -0.4154, -0.2352, -0.2088, -0.2396,\n",
              "          -0.0637, -0.0813, -0.0593,  0.1868]), tensor([0.3582])),\n",
              " (tensor([ 0.0681, -0.0857, -0.2527, -0.4154, -0.2352, -0.2088, -0.2396, -0.0637,\n",
              "          -0.0813, -0.0593,  0.1868,  0.3582]), tensor([0.3231])),\n",
              " (tensor([-0.0857, -0.2527, -0.4154, -0.2352, -0.2088, -0.2396, -0.0637, -0.0813,\n",
              "          -0.0593,  0.1868,  0.3582,  0.3231]), tensor([0.1033])),\n",
              " (tensor([-0.2527, -0.4154, -0.2352, -0.2088, -0.2396, -0.0637, -0.0813, -0.0593,\n",
              "           0.1868,  0.3582,  0.3231,  0.1033]), tensor([-0.1121])),\n",
              " (tensor([-0.4154, -0.2352, -0.2088, -0.2396, -0.0637, -0.0813, -0.0593,  0.1868,\n",
              "           0.3582,  0.3231,  0.1033, -0.1121]), tensor([-0.2659])),\n",
              " (tensor([-0.2352, -0.2088, -0.2396, -0.0637, -0.0813, -0.0593,  0.1868,  0.3582,\n",
              "           0.3231,  0.1033, -0.1121, -0.2659]), tensor([-0.1121])),\n",
              " (tensor([-0.2088, -0.2396, -0.0637, -0.0813, -0.0593,  0.1868,  0.3582,  0.3231,\n",
              "           0.1033, -0.1121, -0.2659, -0.1121]), tensor([-0.0725])),\n",
              " (tensor([-0.2396, -0.0637, -0.0813, -0.0593,  0.1868,  0.3582,  0.3231,  0.1033,\n",
              "          -0.1121, -0.2659, -0.1121, -0.0725]), tensor([-0.1341])),\n",
              " (tensor([-0.0637, -0.0813, -0.0593,  0.1868,  0.3582,  0.3231,  0.1033, -0.1121,\n",
              "          -0.2659, -0.1121, -0.0725, -0.1341]), tensor([0.1077])),\n",
              " (tensor([-0.0813, -0.0593,  0.1868,  0.3582,  0.3231,  0.1033, -0.1121, -0.2659,\n",
              "          -0.1121, -0.0725, -0.1341,  0.1077]), tensor([0.0725])),\n",
              " (tensor([-0.0593,  0.1868,  0.3582,  0.3231,  0.1033, -0.1121, -0.2659, -0.1121,\n",
              "          -0.0725, -0.1341,  0.1077,  0.0725]), tensor([0.1033])),\n",
              " (tensor([ 0.1868,  0.3582,  0.3231,  0.1033, -0.1121, -0.2659, -0.1121, -0.0725,\n",
              "          -0.1341,  0.1077,  0.0725,  0.1033]), tensor([0.3978])),\n",
              " (tensor([ 0.3582,  0.3231,  0.1033, -0.1121, -0.2659, -0.1121, -0.0725, -0.1341,\n",
              "           0.1077,  0.0725,  0.1033,  0.3978]), tensor([0.5868])),\n",
              " (tensor([ 0.3231,  0.1033, -0.1121, -0.2659, -0.1121, -0.0725, -0.1341,  0.1077,\n",
              "           0.0725,  0.1033,  0.3978,  0.5868]), tensor([0.5956])),\n",
              " (tensor([ 0.1033, -0.1121, -0.2659, -0.1121, -0.0725, -0.1341,  0.1077,  0.0725,\n",
              "           0.1033,  0.3978,  0.5868,  0.5956]), tensor([0.3187])),\n",
              " (tensor([-0.1121, -0.2659, -0.1121, -0.0725, -0.1341,  0.1077,  0.0725,  0.1033,\n",
              "           0.3978,  0.5868,  0.5956,  0.3187]), tensor([0.0681])),\n",
              " (tensor([-0.2659, -0.1121, -0.0725, -0.1341,  0.1077,  0.0725,  0.1033,  0.3978,\n",
              "           0.5868,  0.5956,  0.3187,  0.0681]), tensor([-0.1165])),\n",
              " (tensor([-0.1121, -0.0725, -0.1341,  0.1077,  0.0725,  0.1033,  0.3978,  0.5868,\n",
              "           0.5956,  0.3187,  0.0681, -0.1165]), tensor([0.0198])),\n",
              " (tensor([-0.0725, -0.1341,  0.1077,  0.0725,  0.1033,  0.3978,  0.5868,  0.5956,\n",
              "           0.3187,  0.0681, -0.1165,  0.0198]), tensor([0.0374])),\n",
              " (tensor([-0.1341,  0.1077,  0.0725,  0.1033,  0.3978,  0.5868,  0.5956,  0.3187,\n",
              "           0.0681, -0.1165,  0.0198,  0.0374]), tensor([-0.0593])),\n",
              " (tensor([ 0.1077,  0.0725,  0.1033,  0.3978,  0.5868,  0.5956,  0.3187,  0.0681,\n",
              "          -0.1165,  0.0198,  0.0374, -0.0593]), tensor([0.1341])),\n",
              " (tensor([ 0.0725,  0.1033,  0.3978,  0.5868,  0.5956,  0.3187,  0.0681, -0.1165,\n",
              "           0.0198,  0.0374, -0.0593,  0.1341]), tensor([0.0725])),\n",
              " (tensor([ 0.1033,  0.3978,  0.5868,  0.5956,  0.3187,  0.0681, -0.1165,  0.0198,\n",
              "           0.0374, -0.0593,  0.1341,  0.0725]), tensor([0.1385])),\n",
              " (tensor([ 0.3978,  0.5868,  0.5956,  0.3187,  0.0681, -0.1165,  0.0198,  0.0374,\n",
              "          -0.0593,  0.1341,  0.0725,  0.1385]), tensor([0.4549])),\n",
              " (tensor([ 0.5868,  0.5956,  0.3187,  0.0681, -0.1165,  0.0198,  0.0374, -0.0593,\n",
              "           0.1341,  0.0725,  0.1385,  0.4549]), tensor([0.7011])),\n",
              " (tensor([ 0.5956,  0.3187,  0.0681, -0.1165,  0.0198,  0.0374, -0.0593,  0.1341,\n",
              "           0.0725,  0.1385,  0.4549,  0.7011]), tensor([0.7626])),\n",
              " (tensor([ 0.3187,  0.0681, -0.1165,  0.0198,  0.0374, -0.0593,  0.1341,  0.0725,\n",
              "           0.1385,  0.4549,  0.7011,  0.7626]), tensor([0.3187])),\n",
              " (tensor([ 0.0681, -0.1165,  0.0198,  0.0374, -0.0593,  0.1341,  0.0725,  0.1385,\n",
              "           0.4549,  0.7011,  0.7626,  0.3187]), tensor([0.1209])),\n",
              " (tensor([-0.1165,  0.0198,  0.0374, -0.0593,  0.1341,  0.0725,  0.1385,  0.4549,\n",
              "           0.7011,  0.7626,  0.3187,  0.1209]), tensor([-0.0945])),\n",
              " (tensor([ 0.0198,  0.0374, -0.0593,  0.1341,  0.0725,  0.1385,  0.4549,  0.7011,\n",
              "           0.7626,  0.3187,  0.1209, -0.0945]), tensor([0.0242])),\n",
              " (tensor([ 0.0374, -0.0593,  0.1341,  0.0725,  0.1385,  0.4549,  0.7011,  0.7626,\n",
              "           0.3187,  0.1209, -0.0945,  0.0242]), tensor([0.1253])),\n",
              " (tensor([-0.0593,  0.1341,  0.0725,  0.1385,  0.4549,  0.7011,  0.7626,  0.3187,\n",
              "           0.1209, -0.0945,  0.0242,  0.1253]), tensor([0.0462])),\n",
              " (tensor([ 0.1341,  0.0725,  0.1385,  0.4549,  0.7011,  0.7626,  0.3187,  0.1209,\n",
              "          -0.0945,  0.0242,  0.1253,  0.0462]), tensor([0.3275])),\n",
              " (tensor([ 0.0725,  0.1385,  0.4549,  0.7011,  0.7626,  0.3187,  0.1209, -0.0945,\n",
              "           0.0242,  0.1253,  0.0462,  0.3275]), tensor([0.2835])),\n",
              " (tensor([ 0.1385,  0.4549,  0.7011,  0.7626,  0.3187,  0.1209, -0.0945,  0.0242,\n",
              "           0.1253,  0.0462,  0.3275,  0.2835]), tensor([0.3890])),\n",
              " (tensor([ 0.4549,  0.7011,  0.7626,  0.3187,  0.1209, -0.0945,  0.0242,  0.1253,\n",
              "           0.0462,  0.3275,  0.2835,  0.3890]), tensor([0.6176])),\n",
              " (tensor([ 0.7011,  0.7626,  0.3187,  0.1209, -0.0945,  0.0242,  0.1253,  0.0462,\n",
              "           0.3275,  0.2835,  0.3890,  0.6176]), tensor([0.9516])),\n",
              " (tensor([ 0.7626,  0.3187,  0.1209, -0.0945,  0.0242,  0.1253,  0.0462,  0.3275,\n",
              "           0.2835,  0.3890,  0.6176,  0.9516]), tensor([1.])),\n",
              " (tensor([ 0.3187,  0.1209, -0.0945,  0.0242,  0.1253,  0.0462,  0.3275,  0.2835,\n",
              "           0.3890,  0.6176,  0.9516,  1.0000]), tensor([0.5780])),\n",
              " (tensor([ 0.1209, -0.0945,  0.0242,  0.1253,  0.0462,  0.3275,  0.2835,  0.3890,\n",
              "           0.6176,  0.9516,  1.0000,  0.5780]), tensor([0.3319])),\n",
              " (tensor([-0.0945,  0.0242,  0.1253,  0.0462,  0.3275,  0.2835,  0.3890,  0.6176,\n",
              "           0.9516,  1.0000,  0.5780,  0.3319]), tensor([0.1341])),\n",
              " (tensor([0.0242, 0.1253, 0.0462, 0.3275, 0.2835, 0.3890, 0.6176, 0.9516, 1.0000,\n",
              "          0.5780, 0.3319, 0.1341]), tensor([0.3231]))]"
            ]
          },
          "metadata": {
            "tags": []
          },
          "execution_count": 19
        }
      ]
    },
    {
      "cell_type": "code",
      "metadata": {
        "id": "FlGFj69CBHdH",
        "colab_type": "code",
        "colab": {}
      },
      "source": [
        "class LSTM(nn.Module):\n",
        "    def __init__(self, input_size=1, hidden_layer_size=100, output_size=1):\n",
        "        super().__init__()\n",
        "        self.hidden_layer_size = hidden_layer_size\n",
        "\n",
        "        self.lstm = nn.LSTM(input_size, hidden_layer_size)\n",
        "\n",
        "        self.linear = nn.Linear(hidden_layer_size, output_size)\n",
        "\n",
        "        self.hidden_cell = (torch.zeros(1,1,self.hidden_layer_size),\n",
        "                            torch.zeros(1,1,self.hidden_layer_size))\n",
        "\n",
        "    def forward(self, input_seq):\n",
        "        lstm_out, self.hidden_cell = self.lstm(input_seq.view(len(input_seq) ,1, -1), self.hidden_cell)\n",
        "        predictions = self.linear(lstm_out.view(len(input_seq), -1))\n",
        "        return predictions[-1]"
      ],
      "execution_count": 0,
      "outputs": []
    },
    {
      "cell_type": "code",
      "metadata": {
        "id": "w0oEqm0kBgkG",
        "colab_type": "code",
        "colab": {}
      },
      "source": [
        "model = LSTM()\n",
        "loss_function = nn.MSELoss()\n",
        "optimizer = torch.optim.Adam(model.parameters(), lr=0.001)"
      ],
      "execution_count": 0,
      "outputs": []
    },
    {
      "cell_type": "code",
      "metadata": {
        "id": "jxz_ZI6BBkL0",
        "colab_type": "code",
        "outputId": "eb04e197-b0c1-4924-b795-8df752704c4e",
        "colab": {
          "base_uri": "https://localhost:8080/",
          "height": 85
        }
      },
      "source": [
        "print(model)"
      ],
      "execution_count": 0,
      "outputs": [
        {
          "output_type": "stream",
          "text": [
            "LSTM(\n",
            "  (lstm): LSTM(1, 100)\n",
            "  (linear): Linear(in_features=100, out_features=1, bias=True)\n",
            ")\n"
          ],
          "name": "stdout"
        }
      ]
    },
    {
      "cell_type": "code",
      "metadata": {
        "id": "c7NWcjqkBnVc",
        "colab_type": "code",
        "outputId": "06140638-af24-4062-e889-b4939f5a1e82",
        "colab": {
          "base_uri": "https://localhost:8080/",
          "height": 238
        }
      },
      "source": [
        "epochs = 300\n",
        "\n",
        "for i in range(epochs):\n",
        "    for seq, labels in train_inout_seq:\n",
        "        optimizer.zero_grad()\n",
        "        model.hidden_cell = (torch.zeros(1, 1, model.hidden_layer_size),\n",
        "                        torch.zeros(1, 1, model.hidden_layer_size))\n",
        "\n",
        "        y_pred = model(seq)\n",
        "\n",
        "        single_loss = loss_function(y_pred, labels)\n",
        "        single_loss.backward()\n",
        "        optimizer.step()\n",
        "\n",
        "    if i%25 == 1:\n",
        "        print(f'epoch: {i:3} loss: {single_loss.item():10.8f}')\n",
        "\n",
        "print(f'epoch: {i:3} loss: {single_loss.item():10.10f}')"
      ],
      "execution_count": 0,
      "outputs": [
        {
          "output_type": "stream",
          "text": [
            "epoch:   1 loss: 0.00003611\n",
            "epoch:  26 loss: 0.00000836\n",
            "epoch:  51 loss: 0.00000001\n",
            "epoch:  76 loss: 0.00001358\n",
            "epoch: 101 loss: 0.00001989\n",
            "epoch: 126 loss: 0.00004330\n",
            "epoch: 151 loss: 0.00002180\n",
            "epoch: 176 loss: 0.00000539\n",
            "epoch: 201 loss: 0.00000056\n",
            "epoch: 226 loss: 0.00003241\n",
            "epoch: 251 loss: 0.00007826\n",
            "epoch: 276 loss: 0.00012845\n",
            "epoch: 299 loss: 0.0000039646\n"
          ],
          "name": "stdout"
        }
      ]
    },
    {
      "cell_type": "code",
      "metadata": {
        "id": "HuwpmEvRBspF",
        "colab_type": "code",
        "outputId": "11af6c7f-26e9-46ff-9816-1d364de30fea",
        "colab": {
          "base_uri": "https://localhost:8080/",
          "height": 54
        }
      },
      "source": [
        "fut_pred = 12\n",
        "\n",
        "test_inputs = train_data_normalized[-train_window:].tolist()\n",
        "print(test_inputs)"
      ],
      "execution_count": 0,
      "outputs": [
        {
          "output_type": "stream",
          "text": [
            "[0.12527473270893097, 0.04615384712815285, 0.3274725377559662, 0.2835164964199066, 0.3890109956264496, 0.6175824403762817, 0.9516483545303345, 1.0, 0.5780220031738281, 0.33186814188957214, 0.13406594097614288, 0.32307693362236023]\n"
          ],
          "name": "stdout"
        }
      ]
    },
    {
      "cell_type": "code",
      "metadata": {
        "id": "jmOlKkw2B7za",
        "colab_type": "code",
        "colab": {}
      },
      "source": [
        "model.eval()\n",
        "\n",
        "for i in range(fut_pred):\n",
        "    seq = torch.FloatTensor(test_inputs[-train_window:])\n",
        "    with torch.no_grad():\n",
        "        model.hidden = (torch.zeros(1, 1, model.hidden_layer_size),\n",
        "                        torch.zeros(1, 1, model.hidden_layer_size))\n",
        "        test_inputs.append(model(seq).item())"
      ],
      "execution_count": 0,
      "outputs": []
    },
    {
      "cell_type": "code",
      "metadata": {
        "id": "bQaYm9nOCB27",
        "colab_type": "code",
        "outputId": "8e20407e-8dfe-467b-e5d1-73e1fdc97468",
        "colab": {
          "base_uri": "https://localhost:8080/",
          "height": 221
        }
      },
      "source": [
        "actual_predictions = scaler.inverse_transform(np.array(test_inputs[train_window:] ).reshape(-1, 1))\n",
        "print(actual_predictions)"
      ],
      "execution_count": 0,
      "outputs": [
        {
          "output_type": "stream",
          "text": [
            "[[581.08523721]\n",
            " [671.15742558]\n",
            " [747.39832902]\n",
            " [799.1531601 ]\n",
            " [833.76981521]\n",
            " [856.89215267]\n",
            " [872.94769371]\n",
            " [883.83332753]\n",
            " [891.05373228]\n",
            " [895.89879477]\n",
            " [899.47816157]\n",
            " [902.67681623]]\n"
          ],
          "name": "stdout"
        }
      ]
    },
    {
      "cell_type": "code",
      "metadata": {
        "id": "nIF2SYneCGQj",
        "colab_type": "code",
        "outputId": "de8f0265-eff5-47d6-f7d2-933009a205ba",
        "colab": {
          "base_uri": "https://localhost:8080/",
          "height": 34
        }
      },
      "source": [
        "x = np.arange(132, 144, 1)\n",
        "print(x)"
      ],
      "execution_count": 0,
      "outputs": [
        {
          "output_type": "stream",
          "text": [
            "[132 133 134 135 136 137 138 139 140 141 142 143]\n"
          ],
          "name": "stdout"
        }
      ]
    },
    {
      "cell_type": "code",
      "metadata": {
        "id": "dLRTv3QMCIR8",
        "colab_type": "code",
        "outputId": "908d87dc-d3cf-4966-960d-e1e2c8a4ec58",
        "colab": {
          "base_uri": "https://localhost:8080/",
          "height": 336
        }
      },
      "source": [
        "plt.title('Month vs Passenger')\n",
        "plt.ylabel('Total Passengers')\n",
        "plt.grid(True)\n",
        "plt.autoscale(axis='x', tight=True)\n",
        "plt.plot(flight_data['passengers'])\n",
        "plt.plot(x,actual_predictions)\n",
        "plt.show()"
      ],
      "execution_count": 0,
      "outputs": [
        {
          "output_type": "display_data",
          "data": {
            "image/png": "[encoded data removed]",
            "text/plain": [
              "<Figure size 1080x360 with 1 Axes>"
            ]
          },
          "metadata": {
            "tags": [],
            "needs_background": "light"
          }
        }
      ]
    },
    {
      "cell_type": "code",
      "metadata": {
        "id": "7FLgpVIsCNRs",
        "colab_type": "code",
        "outputId": "f3dac2f6-1097-46c7-cda4-52005ecc1b6c",
        "colab": {
          "base_uri": "https://localhost:8080/",
          "height": 336
        }
      },
      "source": [
        "plt.title('Month vs Passenger')\n",
        "plt.ylabel('Total Passengers')\n",
        "plt.grid(True)\n",
        "plt.autoscale(axis='x', tight=True)\n",
        "\n",
        "plt.plot(flight_data['passengers'][-train_window:])\n",
        "plt.plot(x,actual_predictions)\n",
        "plt.show()"
      ],
      "execution_count": 0,
      "outputs": [
        {
          "output_type": "display_data",
          "data": {
            "image/png": "[encoded data removed]",
            "text/plain": [
              "<Figure size 1080x360 with 1 Axes>"
            ]
          },
          "metadata": {
            "tags": [],
            "needs_background": "light"
          }
        }
      ]
    }
  ]
}