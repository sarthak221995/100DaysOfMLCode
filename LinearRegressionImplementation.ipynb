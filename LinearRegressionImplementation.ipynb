{
  "nbformat": 4,
  "nbformat_minor": 0,
  "metadata": {
    "colab": {
      "name": "LinearRegressionImplementation.ipynb",
      "provenance": [],
      "authorship_tag": "ABX9TyPIyja4fxI8XivohGuF1ykc",
      "include_colab_link": true
    },
    "kernelspec": {
      "name": "python3",
      "display_name": "Python 3"
    },
    "language_info": {
      "name": "python"
    }
  },
  "cells": [
    {
      "cell_type": "markdown",
      "metadata": {
        "id": "view-in-github",
        "colab_type": "text"
      },
      "source": [
        "<a href=\"https://colab.research.google.com/github/sarthak221995/100DaysOfMLCode/blob/master/LinearRegressionImplementation.ipynb\" target=\"_parent\"><img src=\"https://colab.research.google.com/assets/colab-badge.svg\" alt=\"Open In Colab\"/></a>"
      ]
    },
    {
      "cell_type": "markdown",
      "source": [
        "# LINEAR REGRESSION FROM SCRATCH"
      ],
      "metadata": {
        "id": "oy2KluICITVO"
      }
    },
    {
      "cell_type": "code",
      "execution_count": 1,
      "metadata": {
        "id": "c-kiMw6C9ZpM"
      },
      "outputs": [],
      "source": [
        "import random \n",
        "import torch\n",
        "import matplotlib.pyplot as plt\n",
        "\n",
        "%matplotlib inline"
      ]
    },
    {
      "cell_type": "code",
      "source": [
        "# CREATE SYNTHETIC DATA\n",
        "\n",
        "def synthetic_data(w, b, num_examples):\n",
        "  \"\"\"Generate y = Xw + b + noise\"\"\"\n",
        "  X = torch.normal(0, 1, (num_examples, len(w)))\n",
        "  y = torch.matmul(X, w) + b\n",
        "  y+= torch.normal(0,0.01, y.shape)\n",
        "  return X, y.reshape((-1, 1))\n",
        "\n",
        "true_w = torch.tensor([2,-3.4])\n",
        "true_b = 4.2\n",
        "features, labels = synthetic_data(true_w, true_b, 1000)\n",
        "print(f\"Features Shape :{features.shape}\\n Labels Shape :{labels.shape}\")"
      ],
      "metadata": {
        "colab": {
          "base_uri": "https://localhost:8080/"
        },
        "id": "e14mpbn29p63",
        "outputId": "87d53a5a-05cf-41d7-bbd7-02766af67173"
      },
      "execution_count": 8,
      "outputs": [
        {
          "output_type": "stream",
          "name": "stdout",
          "text": [
            "Features Shape :torch.Size([1000, 2])\n",
            " Labels Shape :torch.Size([1000, 1])\n"
          ]
        }
      ]
    },
    {
      "cell_type": "code",
      "source": [
        "# CREATE MINIBATCH\n",
        "\n",
        "def data_iter(batch_size, features, labels):\n",
        "  num_examples = len(features)\n",
        "  indices = list(range(num_examples))\n",
        "  random.shuffle(indices)\n",
        "  for i in range(0, num_examples, batch_size):\n",
        "    batch_indices = torch.tensor(indices[i:min(i+batch_size,num_examples)])\n",
        "    yield features[batch_indices],labels[batch_indices]\n",
        "  "
      ],
      "metadata": {
        "id": "QQt5WL6fAp_P"
      },
      "execution_count": 35,
      "outputs": []
    },
    {
      "cell_type": "code",
      "source": [
        "# INITIALIZE MODEL PARAMETERS\n",
        "\n",
        "w = torch.normal(0,0.01, size=(2,1),requires_grad=True)\n",
        "b = torch.zeros(1,requires_grad=True)"
      ],
      "metadata": {
        "id": "2TOPKi7JCJOC"
      },
      "execution_count": 30,
      "outputs": []
    },
    {
      "cell_type": "code",
      "source": [
        "# DEFINING THE PROBLEM\n",
        "\n",
        "def linreg(X, w, b):\n",
        "  \"\"\"The Linear Regression Model\"\"\"\n",
        "  return torch.matmul(X,w) + b"
      ],
      "metadata": {
        "id": "XhloD60PCq-L"
      },
      "execution_count": 31,
      "outputs": []
    },
    {
      "cell_type": "code",
      "source": [
        "# DEFINING THE LOSS FUNCTION\n",
        "\n",
        "def squared_loss(y_hat, y):\n",
        "  return (y_hat - y.reshape(y_hat.shape)) ** 2 /2"
      ],
      "metadata": {
        "id": "sCCktOkiDMEy"
      },
      "execution_count": 32,
      "outputs": []
    },
    {
      "cell_type": "code",
      "source": [
        "# DEFINING THE OPTIMIZATION ALGORITHM\n",
        "\n",
        "def sgd(params, lr, batch_size):\n",
        "  with torch.no_grad():\n",
        "    for param in params:\n",
        "      param -= lr * param.grad / batch_size\n",
        "      param.grad.zero_()"
      ],
      "metadata": {
        "id": "ZZui7EFfDc5W"
      },
      "execution_count": 37,
      "outputs": []
    },
    {
      "cell_type": "code",
      "source": [
        "# TRAINING MODEL\n",
        "\n",
        "lr = 0.03\n",
        "num_epochs = 3\n",
        "net = linreg\n",
        "loss = squared_loss\n",
        "batch_size = 10\n",
        "\n",
        "for epoch in range(num_epochs):\n",
        "  for X, y in data_iter(batch_size,features,labels):\n",
        "    l = loss(net(X,w,b),y)\n",
        "    # Compute Gradient on l wrt to w,b\n",
        "    l.sum().backward()\n",
        "    sgd([w,b],lr,batch_size)\n",
        "  with torch.no_grad():\n",
        "    train_l = loss(net(features,w,b),labels)\n",
        "    print(f\"epoch {epoch+1}, loss {float(train_l.mean()):f}\")\n",
        "    "
      ],
      "metadata": {
        "colab": {
          "base_uri": "https://localhost:8080/"
        },
        "id": "fSL0noz5EELo",
        "outputId": "ed6c0bf7-dcc0-4bc9-d58e-9910610c3e29"
      },
      "execution_count": 38,
      "outputs": [
        {
          "output_type": "stream",
          "name": "stdout",
          "text": [
            "epoch 1, loss 0.027690\n",
            "epoch 2, loss 0.000104\n",
            "epoch 3, loss 0.000048\n"
          ]
        }
      ]
    },
    {
      "cell_type": "code",
      "source": [
        "w"
      ],
      "metadata": {
        "colab": {
          "base_uri": "https://localhost:8080/"
        },
        "id": "9sPYefMVHr7K",
        "outputId": "eb6725f9-f45f-4a65-f32a-ac49bf19ca0f"
      },
      "execution_count": 39,
      "outputs": [
        {
          "output_type": "execute_result",
          "data": {
            "text/plain": [
              "tensor([[ 1.9998],\n",
              "        [-3.3999]], requires_grad=True)"
            ]
          },
          "metadata": {},
          "execution_count": 39
        }
      ]
    },
    {
      "cell_type": "code",
      "source": [
        "true_w"
      ],
      "metadata": {
        "colab": {
          "base_uri": "https://localhost:8080/"
        },
        "id": "8-QBeyUeHuA7",
        "outputId": "6d660abb-291a-4855-cbb4-28bc125eabe3"
      },
      "execution_count": 40,
      "outputs": [
        {
          "output_type": "execute_result",
          "data": {
            "text/plain": [
              "tensor([ 2.0000, -3.4000])"
            ]
          },
          "metadata": {},
          "execution_count": 40
        }
      ]
    },
    {
      "cell_type": "code",
      "source": [
        "print(f\"error in estimating w: {true_w-w.reshape(true_w.shape)}\")\n",
        "print(f\"error in estimating b: {true_b-b}\")"
      ],
      "metadata": {
        "colab": {
          "base_uri": "https://localhost:8080/"
        },
        "id": "VA5tF6h1HTgv",
        "outputId": "c7946025-15fa-4c2a-eafd-61959fcd0984"
      },
      "execution_count": 41,
      "outputs": [
        {
          "output_type": "stream",
          "name": "stdout",
          "text": [
            "error in estimating w: tensor([ 0.0002, -0.0001], grad_fn=<SubBackward0>)\n",
            "error in estimating b: tensor([0.0002], grad_fn=<RsubBackward1>)\n"
          ]
        }
      ]
    },
    {
      "cell_type": "markdown",
      "source": [
        "# LINEAR REGRESSION CONCISE IMPLEMENTATION"
      ],
      "metadata": {
        "id": "IqlG7TFmItz6"
      }
    },
    {
      "cell_type": "code",
      "source": [
        "from torch.utils import data\n",
        "from torch import nn "
      ],
      "metadata": {
        "id": "m1zCFZg5JLh4"
      },
      "execution_count": 46,
      "outputs": []
    },
    {
      "cell_type": "code",
      "source": [
        "# CREATE SYNTHETIC DATA\n",
        "\n",
        "def synthetic_data(w, b, num_examples):\n",
        "  \"\"\"Generate y = Xw + b + noise\"\"\"\n",
        "  X = torch.normal(0, 1, (num_examples, len(w)))\n",
        "  y = torch.matmul(X, w) + b\n",
        "  y+= torch.normal(0,0.01, y.shape)\n",
        "  return X, y.reshape((-1, 1))\n",
        "\n",
        "true_w = torch.tensor([2,-3.4])\n",
        "true_b = 4.2\n",
        "features, labels = synthetic_data(true_w, true_b, 1000)\n",
        "print(f\"Features Shape :{features.shape}\\n Labels Shape :{labels.shape}\")"
      ],
      "metadata": {
        "colab": {
          "base_uri": "https://localhost:8080/"
        },
        "id": "ASpnUW0KH7A3",
        "outputId": "342070e7-eb11-405c-baf7-ae565bfbf116"
      },
      "execution_count": 42,
      "outputs": [
        {
          "output_type": "stream",
          "name": "stdout",
          "text": [
            "Features Shape :torch.Size([1000, 2])\n",
            " Labels Shape :torch.Size([1000, 1])\n"
          ]
        }
      ]
    },
    {
      "cell_type": "code",
      "source": [
        "# READING DATASET\n",
        "\n",
        "def load_array(data_arrays, batch_size, is_train=True):\n",
        "  \"\"\"Construct PYTORCH Data Iterator\"\"\"\n",
        "  dataset = data.TensorDataset(*data_arrays)\n",
        "  return data.DataLoader(dataset, batch_size, shuffle=is_train)\n",
        "\n",
        "data_iter = load_array((features,labels), batch_size)"
      ],
      "metadata": {
        "id": "FIFlKq9-I15E"
      },
      "execution_count": 56,
      "outputs": []
    },
    {
      "cell_type": "code",
      "source": [
        "# DEFINING THE MODEL\n",
        "net = nn.Sequential(nn.Linear(2,1))"
      ],
      "metadata": {
        "id": "ZYdjafZqJjfz"
      },
      "execution_count": 47,
      "outputs": []
    },
    {
      "cell_type": "code",
      "source": [
        "# INITIALIZING THE MODEL PARAMATERS\n",
        "net[0].weight.data.normal_(0, 0.01)\n",
        "net[0].bias.data.fill_(0)"
      ],
      "metadata": {
        "colab": {
          "base_uri": "https://localhost:8080/"
        },
        "id": "8m9pwZX9KDTO",
        "outputId": "9562771a-4c4b-4136-f097-c7700c321683"
      },
      "execution_count": 48,
      "outputs": [
        {
          "output_type": "execute_result",
          "data": {
            "text/plain": [
              "tensor([0.])"
            ]
          },
          "metadata": {},
          "execution_count": 48
        }
      ]
    },
    {
      "cell_type": "code",
      "source": [
        "# DEFINING THE LOSS FUNCTION\n",
        "loss = nn.MSELoss()"
      ],
      "metadata": {
        "id": "c1Y4SbJeKb92"
      },
      "execution_count": 49,
      "outputs": []
    },
    {
      "cell_type": "code",
      "source": [
        "# DEFINING THE OPTIMIZATION ALGORITHM\n",
        "trainer = torch.optim.SGD(net.parameters(), lr=lr)"
      ],
      "metadata": {
        "id": "MbkObkqnKgYm"
      },
      "execution_count": 51,
      "outputs": []
    },
    {
      "cell_type": "code",
      "source": [
        "# TRAINING\n",
        "num_epochs = 3\n",
        "for epoch in range(num_epochs):\n",
        "  for X, y in data_iter:\n",
        "    l = loss(net(X),y)\n",
        "    trainer.zero_grad()\n",
        "    l.backward()\n",
        "    trainer.step()\n",
        "  l = loss(net(features),labels)\n",
        "  print(f\"epoch {epoch + 1} loss {l:f}\")"
      ],
      "metadata": {
        "colab": {
          "base_uri": "https://localhost:8080/"
        },
        "id": "SSXfWkyPKrZM",
        "outputId": "0298c0e8-bbfb-49b7-edb2-7f898973c9e2"
      },
      "execution_count": 58,
      "outputs": [
        {
          "output_type": "stream",
          "name": "stdout",
          "text": [
            "epoch 1 loss 0.000101\n",
            "epoch 2 loss 0.000102\n",
            "epoch 3 loss 0.000101\n"
          ]
        }
      ]
    },
    {
      "cell_type": "code",
      "source": [
        "w = net[0].weight.data\n",
        "b = net[0].bias.data"
      ],
      "metadata": {
        "id": "6JvhIgIRL0zf"
      },
      "execution_count": 59,
      "outputs": []
    },
    {
      "cell_type": "code",
      "source": [
        "print(f\"error in estimating w: {true_w-w.reshape(true_w.shape)}\")\n",
        "print(f\"error in estimating b: {true_b-b}\")"
      ],
      "metadata": {
        "colab": {
          "base_uri": "https://localhost:8080/"
        },
        "id": "pCAduU2wMa1N",
        "outputId": "a79954b3-d64d-4413-f234-8aee1c804dde"
      },
      "execution_count": 60,
      "outputs": [
        {
          "output_type": "stream",
          "name": "stdout",
          "text": [
            "error in estimating w: tensor([-0.0001,  0.0002])\n",
            "error in estimating b: tensor([5.0068e-05])\n"
          ]
        }
      ]
    },
    {
      "cell_type": "code",
      "source": [
        ""
      ],
      "metadata": {
        "id": "PEwJjSRoMcX5"
      },
      "execution_count": null,
      "outputs": []
    }
  ]
}