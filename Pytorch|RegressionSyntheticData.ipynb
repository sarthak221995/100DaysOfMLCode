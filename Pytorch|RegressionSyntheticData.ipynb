{
  "nbformat": 4,
  "nbformat_minor": 0,
  "metadata": {
    "colab": {
      "name": "Pytorch|RegressionSyntheticData.ipynb",
      "provenance": [],
      "authorship_tag": "ABX9TyPOGLjGEvskXRBXJrT7B07o",
      "include_colab_link": true
    },
    "kernelspec": {
      "name": "python3",
      "display_name": "Python 3"
    }
  },
  "cells": [
    {
      "cell_type": "markdown",
      "metadata": {
        "id": "view-in-github",
        "colab_type": "text"
      },
      "source": [
        "<a href=\"https://colab.research.google.com/github/sarthak221995/100DaysOfMLCode/blob/master/Pytorch%7CRegressionSyntheticData.ipynb\" target=\"_parent\"><img src=\"https://colab.research.google.com/assets/colab-badge.svg\" alt=\"Open In Colab\"/></a>"
      ]
    },
    {
      "cell_type": "code",
      "metadata": {
        "id": "ZQxlBvUw8657",
        "colab_type": "code",
        "colab": {}
      },
      "source": [
        "import torch\n",
        "import torch.nn as nn\n",
        "import numpy as np\n",
        "import matplotlib.pyplot as plt"
      ],
      "execution_count": 0,
      "outputs": []
    },
    {
      "cell_type": "code",
      "metadata": {
        "id": "mtIvlBkLDNh5",
        "colab_type": "code",
        "colab": {}
      },
      "source": [
        "# Generate 20 data points\n",
        "N = 20\n",
        "#range -5 to +5\n",
        "X = np.random.random(N)*10 - 5\n",
        "#true slope is 0.5 and bias is -1\n",
        "Y = 0.5 * X - 1 + np.random.randn(N)"
      ],
      "execution_count": 0,
      "outputs": []
    },
    {
      "cell_type": "code",
      "metadata": {
        "id": "BA0R1uFBEEXY",
        "colab_type": "code",
        "colab": {
          "base_uri": "https://localhost:8080/",
          "height": 282
        },
        "outputId": "79adba3e-df13-4c79-b73c-3d82f0990524"
      },
      "source": [
        "plt.scatter(X,Y)"
      ],
      "execution_count": 4,
      "outputs": [
        {
          "output_type": "execute_result",
          "data": {
            "text/plain": [
              "<matplotlib.collections.PathCollection at 0x7fbc238016a0>"
            ]
          },
          "metadata": {
            "tags": []
          },
          "execution_count": 4
        },
        {
          "output_type": "display_data",
          "data": {
            "image/png": "[encoded data removed]",
            "text/plain": [
              "<Figure size 432x288 with 1 Axes>"
            ]
          },
          "metadata": {
            "tags": [],
            "needs_background": "light"
          }
        }
      ]
    },
    {
      "cell_type": "code",
      "metadata": {
        "id": "xZXn4TFUEH6O",
        "colab_type": "code",
        "colab": {}
      },
      "source": [
        "model = nn.Linear(1,1)"
      ],
      "execution_count": 0,
      "outputs": []
    },
    {
      "cell_type": "code",
      "metadata": {
        "id": "82DOgUkBELpX",
        "colab_type": "code",
        "colab": {}
      },
      "source": [
        "creteria = nn.MSELoss()\n",
        "optimizer = torch.optim.SGD(model.parameters(), lr=0.1)"
      ],
      "execution_count": 0,
      "outputs": []
    },
    {
      "cell_type": "code",
      "metadata": {
        "id": "7ReXrZXHEfyD",
        "colab_type": "code",
        "colab": {}
      },
      "source": [
        "X = X.reshape(N,1)\n",
        "Y = Y.reshape(N,1)"
      ],
      "execution_count": 0,
      "outputs": []
    },
    {
      "cell_type": "code",
      "metadata": {
        "id": "fHiz7rteElUU",
        "colab_type": "code",
        "colab": {}
      },
      "source": [
        "inputs = torch.from_numpy(X.astype(np.float32))\n",
        "targets = torch.from_numpy(Y.astype(np.float32))"
      ],
      "execution_count": 0,
      "outputs": []
    },
    {
      "cell_type": "code",
      "metadata": {
        "id": "NV4YqHSVExQV",
        "colab_type": "code",
        "colab": {
          "base_uri": "https://localhost:8080/",
          "height": 527
        },
        "outputId": "82043208-f53f-4f0e-b61a-2fbe20b4b8aa"
      },
      "source": [
        "n_epochs = 30\n",
        "losses = []\n",
        "for it in range(n_epochs):\n",
        "  optimizer.zero_grad()\n",
        "  outputs = model(inputs)\n",
        "  loss = creteria(outputs, targets)\n",
        "  losses.append(loss.item())\n",
        "  loss.backward()\n",
        "  optimizer.step()\n",
        "  print(f'Epoch {it+1}/{n_epochs},Loss : {loss.item(): .4f}')"
      ],
      "execution_count": 11,
      "outputs": [
        {
          "output_type": "stream",
          "text": [
            "Epoch 1/30,Loss :  0.8613\n",
            "Epoch 2/30,Loss :  0.8613\n",
            "Epoch 3/30,Loss :  0.8613\n",
            "Epoch 4/30,Loss :  0.8613\n",
            "Epoch 5/30,Loss :  0.8613\n",
            "Epoch 6/30,Loss :  0.8613\n",
            "Epoch 7/30,Loss :  0.8613\n",
            "Epoch 8/30,Loss :  0.8613\n",
            "Epoch 9/30,Loss :  0.8613\n",
            "Epoch 10/30,Loss :  0.8613\n",
            "Epoch 11/30,Loss :  0.8613\n",
            "Epoch 12/30,Loss :  0.8613\n",
            "Epoch 13/30,Loss :  0.8613\n",
            "Epoch 14/30,Loss :  0.8613\n",
            "Epoch 15/30,Loss :  0.8613\n",
            "Epoch 16/30,Loss :  0.8613\n",
            "Epoch 17/30,Loss :  0.8613\n",
            "Epoch 18/30,Loss :  0.8613\n",
            "Epoch 19/30,Loss :  0.8613\n",
            "Epoch 20/30,Loss :  0.8613\n",
            "Epoch 21/30,Loss :  0.8613\n",
            "Epoch 22/30,Loss :  0.8613\n",
            "Epoch 23/30,Loss :  0.8613\n",
            "Epoch 24/30,Loss :  0.8613\n",
            "Epoch 25/30,Loss :  0.8613\n",
            "Epoch 26/30,Loss :  0.8613\n",
            "Epoch 27/30,Loss :  0.8613\n",
            "Epoch 28/30,Loss :  0.8613\n",
            "Epoch 29/30,Loss :  0.8613\n",
            "Epoch 30/30,Loss :  0.8613\n"
          ],
          "name": "stdout"
        }
      ]
    },
    {
      "cell_type": "code",
      "metadata": {
        "id": "5cqCJREBGPaf",
        "colab_type": "code",
        "colab": {
          "base_uri": "https://localhost:8080/",
          "height": 276
        },
        "outputId": "535ad7e4-ac78-4826-e308-8e169e2d3faf"
      },
      "source": [
        "plt.plot(losses);"
      ],
      "execution_count": 12,
      "outputs": [
        {
          "output_type": "display_data",
          "data": {
            "image/png": "[encoded data removed]",
            "text/plain": [
              "<Figure size 432x288 with 1 Axes>"
            ]
          },
          "metadata": {
            "tags": [],
            "needs_background": "light"
          }
        }
      ]
    },
    {
      "cell_type": "code",
      "metadata": {
        "id": "yz4EwY8pGWqK",
        "colab_type": "code",
        "colab": {
          "base_uri": "https://localhost:8080/",
          "height": 265
        },
        "outputId": "709bf429-1ac1-413f-a212-794f2621acf9"
      },
      "source": [
        "predicted = model(inputs).detach().numpy()\n",
        "plt.scatter(X, Y, label=\"Original Data\")\n",
        "plt.plot(X, predicted, label = \"Fitted Line\")\n",
        "plt.legend()\n",
        "plt.show()"
      ],
      "execution_count": 13,
      "outputs": [
        {
          "output_type": "display_data",
          "data": {
            "image/png": "[encoded data removed]",
            "text/plain": [
              "<Figure size 432x288 with 1 Axes>"
            ]
          },
          "metadata": {
            "tags": [],
            "needs_background": "light"
          }
        }
      ]
    },
    {
      "cell_type": "code",
      "metadata": {
        "id": "Pxo7zem8HFY8",
        "colab_type": "code",
        "colab": {
          "base_uri": "https://localhost:8080/",
          "height": 34
        },
        "outputId": "f5523bfd-c61f-4d82-9c48-874c7978be66"
      },
      "source": [
        "w = model.weight.data.numpy()\n",
        "b = model.bias.data.numpy()\n",
        "print(w,b)"
      ],
      "execution_count": 15,
      "outputs": [
        {
          "output_type": "stream",
          "text": [
            "[[0.6780574]] [-0.88535255]\n"
          ],
          "name": "stdout"
        }
      ]
    }
  ]
}