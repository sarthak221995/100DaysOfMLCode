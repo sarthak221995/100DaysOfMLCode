{
  "nbformat": 4,
  "nbformat_minor": 0,
  "metadata": {
    "colab": {
      "name": "Pytorch|Regression|Moore'sLaw.ipynb",
      "provenance": [],
      "authorship_tag": "ABX9TyPYIkE7x9eQuGl5C840l2oG",
      "include_colab_link": true
    },
    "kernelspec": {
      "name": "python3",
      "display_name": "Python 3"
    }
  },
  "cells": [
    {
      "cell_type": "markdown",
      "metadata": {
        "id": "view-in-github",
        "colab_type": "text"
      },
      "source": [
        "<a href=\"https://colab.research.google.com/github/sarthak221995/100DaysOfMLCode/blob/master/Pytorch%7CRegression%7CMoore'sLaw.ipynb\" target=\"_parent\"><img src=\"https://colab.research.google.com/assets/colab-badge.svg\" alt=\"Open In Colab\"/></a>"
      ]
    },
    {
      "cell_type": "code",
      "metadata": {
        "id": "2y6fort1rZlq",
        "colab_type": "code",
        "colab": {}
      },
      "source": [
        "import torch\n",
        "import torch.nn as nn\n",
        "import numpy as np\n",
        "import pandas as pd\n",
        "import matplotlib.pyplot as plt"
      ],
      "execution_count": 0,
      "outputs": []
    },
    {
      "cell_type": "code",
      "metadata": {
        "id": "ffHcy0FJrxV7",
        "colab_type": "code",
        "outputId": "c398657a-3931-45c5-92ad-0403db8f9a97",
        "colab": {
          "base_uri": "https://localhost:8080/",
          "height": 204
        }
      },
      "source": [
        "# Get the data\n",
        "!wget -nc https://raw.githubusercontent.com/lazyprogrammer/machine_learning_examples/master/tf2.0/moore.csv"
      ],
      "execution_count": 2,
      "outputs": [
        {
          "output_type": "stream",
          "text": [
            "--2020-04-25 05:39:05--  https://raw.githubusercontent.com/lazyprogrammer/machine_learning_examples/master/tf2.0/moore.csv\n",
            "Resolving raw.githubusercontent.com (raw.githubusercontent.com)... 151.101.0.133, 151.101.64.133, 151.101.128.133, ...\n",
            "Connecting to raw.githubusercontent.com (raw.githubusercontent.com)|151.101.0.133|:443... connected.\n",
            "HTTP request sent, awaiting response... 200 OK\n",
            "Length: 2302 (2.2K) [text/plain]\n",
            "Saving to: ‘moore.csv’\n",
            "\n",
            "\rmoore.csv             0%[                    ]       0  --.-KB/s               \rmoore.csv           100%[===================>]   2.25K  --.-KB/s    in 0s      \n",
            "\n",
            "2020-04-25 05:39:05 (48.3 MB/s) - ‘moore.csv’ saved [2302/2302]\n",
            "\n"
          ],
          "name": "stdout"
        }
      ]
    },
    {
      "cell_type": "code",
      "metadata": {
        "id": "LriTkQFkseGd",
        "colab_type": "code",
        "colab": {}
      },
      "source": [
        "data = pd.read_csv('moore.csv',header=None).values"
      ],
      "execution_count": 0,
      "outputs": []
    },
    {
      "cell_type": "code",
      "metadata": {
        "id": "Z89paZo5smH4",
        "colab_type": "code",
        "colab": {}
      },
      "source": [
        "X = data[:,0].reshape(-1,1)\n",
        "Y = data[:,1].reshape(-1,1)"
      ],
      "execution_count": 0,
      "outputs": []
    },
    {
      "cell_type": "code",
      "metadata": {
        "id": "g9OSiTpe2q65",
        "colab_type": "code",
        "colab": {
          "base_uri": "https://localhost:8080/",
          "height": 293
        },
        "outputId": "9adfa2e1-ad61-47ee-be1b-25b31c542657"
      },
      "source": [
        "plt.scatter(X, Y)"
      ],
      "execution_count": 26,
      "outputs": [
        {
          "output_type": "execute_result",
          "data": {
            "text/plain": [
              "<matplotlib.collections.PathCollection at 0x7fa65d51b6a0>"
            ]
          },
          "metadata": {
            "tags": []
          },
          "execution_count": 26
        },
        {
          "output_type": "display_data",
          "data": {
            "image/png": "[encoded data removed]",
            "text/plain": [
              "<Figure size 432x288 with 1 Axes>"
            ]
          },
          "metadata": {
            "tags": [],
            "needs_background": "light"
          }
        }
      ]
    },
    {
      "cell_type": "code",
      "metadata": {
        "id": "BI6jcZ_E2tUh",
        "colab_type": "code",
        "colab": {
          "base_uri": "https://localhost:8080/",
          "height": 282
        },
        "outputId": "4e93e8ad-6869-408f-a62c-49582fc21a74"
      },
      "source": [
        "Y = np.log(Y)\n",
        "plt.scatter(X, Y)"
      ],
      "execution_count": 27,
      "outputs": [
        {
          "output_type": "execute_result",
          "data": {
            "text/plain": [
              "<matplotlib.collections.PathCollection at 0x7fa65d471400>"
            ]
          },
          "metadata": {
            "tags": []
          },
          "execution_count": 27
        },
        {
          "output_type": "display_data",
          "data": {
            "image/png": "[encoded data removed]",
            "text/plain": [
              "<Figure size 432x288 with 1 Axes>"
            ]
          },
          "metadata": {
            "tags": [],
            "needs_background": "light"
          }
        }
      ]
    },
    {
      "cell_type": "code",
      "metadata": {
        "id": "2aJGHO5H25Qa",
        "colab_type": "code",
        "colab": {}
      },
      "source": [
        "mx = X.mean()\n",
        "sx = X.std()\n",
        "my = Y.mean()\n",
        "sy = Y.std()\n",
        "\n",
        "X = (X - mx)/sx\n",
        "Y = (Y - my)/sy"
      ],
      "execution_count": 0,
      "outputs": []
    },
    {
      "cell_type": "code",
      "metadata": {
        "id": "dQJHdMGG3L4l",
        "colab_type": "code",
        "colab": {
          "base_uri": "https://localhost:8080/",
          "height": 282
        },
        "outputId": "ff1de310-5526-4785-a171-c0162293e758"
      },
      "source": [
        "plt.scatter(X, Y)"
      ],
      "execution_count": 10,
      "outputs": [
        {
          "output_type": "execute_result",
          "data": {
            "text/plain": [
              "<matplotlib.collections.PathCollection at 0x7fa65ea825c0>"
            ]
          },
          "metadata": {
            "tags": []
          },
          "execution_count": 10
        },
        {
          "output_type": "display_data",
          "data": {
            "image/png": "[encoded data removed]",
            "text/plain": [
              "<Figure size 432x288 with 1 Axes>"
            ]
          },
          "metadata": {
            "tags": [],
            "needs_background": "light"
          }
        }
      ]
    },
    {
      "cell_type": "code",
      "metadata": {
        "id": "LXJZvlC23Px8",
        "colab_type": "code",
        "colab": {}
      },
      "source": [
        "X = X.astype(np.float32)\n",
        "Y = Y.astype(np.float32)"
      ],
      "execution_count": 0,
      "outputs": []
    },
    {
      "cell_type": "code",
      "metadata": {
        "id": "cry7YFNu3rcC",
        "colab_type": "code",
        "colab": {}
      },
      "source": [
        "model = nn.Linear(1, 1)"
      ],
      "execution_count": 0,
      "outputs": []
    },
    {
      "cell_type": "code",
      "metadata": {
        "id": "JkMMW58i3vfd",
        "colab_type": "code",
        "colab": {}
      },
      "source": [
        "creteria = nn.MSELoss()\n",
        "optimizer = torch.optim.SGD(model.parameters(), lr=0.1, momentum=0.7)"
      ],
      "execution_count": 0,
      "outputs": []
    },
    {
      "cell_type": "code",
      "metadata": {
        "id": "GdTrSHxu38II",
        "colab_type": "code",
        "colab": {}
      },
      "source": [
        "inputs = torch.from_numpy(X)\n",
        "targets = torch.from_numpy(Y)"
      ],
      "execution_count": 0,
      "outputs": []
    },
    {
      "cell_type": "code",
      "metadata": {
        "id": "r6QeDsf24Cea",
        "colab_type": "code",
        "colab": {
          "base_uri": "https://localhost:8080/",
          "height": 1000
        },
        "outputId": "3b903b84-dba4-44b0-c988-e5652b81fab6"
      },
      "source": [
        "n_epochs = 100\n",
        "losses = []\n",
        "\n",
        "for it in range(n_epochs):\n",
        "  optimizer.zero_grad()\n",
        "  outputs = model(inputs)\n",
        "  loss = creteria(outputs, targets)\n",
        "  losses.append(loss.item())\n",
        "  loss.backward()\n",
        "  optimizer.step()\n",
        "  print(f'Epoch {it+1}/{n_epochs}, Loss: {loss.item():.4f}')"
      ],
      "execution_count": 32,
      "outputs": [
        {
          "output_type": "stream",
          "text": [
            "Epoch 1/100, Loss: 973528.8125\n",
            "Epoch 2/100, Loss: 625844423711784960.0000\n",
            "Epoch 3/100, Loss: 402338559680235399217659510784.0000\n",
            "Epoch 4/100, Loss: inf\n",
            "Epoch 5/100, Loss: inf\n",
            "Epoch 6/100, Loss: inf\n",
            "Epoch 7/100, Loss: inf\n",
            "Epoch 8/100, Loss: inf\n",
            "Epoch 9/100, Loss: nan\n",
            "Epoch 10/100, Loss: nan\n",
            "Epoch 11/100, Loss: nan\n",
            "Epoch 12/100, Loss: nan\n",
            "Epoch 13/100, Loss: nan\n",
            "Epoch 14/100, Loss: nan\n",
            "Epoch 15/100, Loss: nan\n",
            "Epoch 16/100, Loss: nan\n",
            "Epoch 17/100, Loss: nan\n",
            "Epoch 18/100, Loss: nan\n",
            "Epoch 19/100, Loss: nan\n",
            "Epoch 20/100, Loss: nan\n",
            "Epoch 21/100, Loss: nan\n",
            "Epoch 22/100, Loss: nan\n",
            "Epoch 23/100, Loss: nan\n",
            "Epoch 24/100, Loss: nan\n",
            "Epoch 25/100, Loss: nan\n",
            "Epoch 26/100, Loss: nan\n",
            "Epoch 27/100, Loss: nan\n",
            "Epoch 28/100, Loss: nan\n",
            "Epoch 29/100, Loss: nan\n",
            "Epoch 30/100, Loss: nan\n",
            "Epoch 31/100, Loss: nan\n",
            "Epoch 32/100, Loss: nan\n",
            "Epoch 33/100, Loss: nan\n",
            "Epoch 34/100, Loss: nan\n",
            "Epoch 35/100, Loss: nan\n",
            "Epoch 36/100, Loss: nan\n",
            "Epoch 37/100, Loss: nan\n",
            "Epoch 38/100, Loss: nan\n",
            "Epoch 39/100, Loss: nan\n",
            "Epoch 40/100, Loss: nan\n",
            "Epoch 41/100, Loss: nan\n",
            "Epoch 42/100, Loss: nan\n",
            "Epoch 43/100, Loss: nan\n",
            "Epoch 44/100, Loss: nan\n",
            "Epoch 45/100, Loss: nan\n",
            "Epoch 46/100, Loss: nan\n",
            "Epoch 47/100, Loss: nan\n",
            "Epoch 48/100, Loss: nan\n",
            "Epoch 49/100, Loss: nan\n",
            "Epoch 50/100, Loss: nan\n",
            "Epoch 51/100, Loss: nan\n",
            "Epoch 52/100, Loss: nan\n",
            "Epoch 53/100, Loss: nan\n",
            "Epoch 54/100, Loss: nan\n",
            "Epoch 55/100, Loss: nan\n",
            "Epoch 56/100, Loss: nan\n",
            "Epoch 57/100, Loss: nan\n",
            "Epoch 58/100, Loss: nan\n",
            "Epoch 59/100, Loss: nan\n",
            "Epoch 60/100, Loss: nan\n",
            "Epoch 61/100, Loss: nan\n",
            "Epoch 62/100, Loss: nan\n",
            "Epoch 63/100, Loss: nan\n",
            "Epoch 64/100, Loss: nan\n",
            "Epoch 65/100, Loss: nan\n",
            "Epoch 66/100, Loss: nan\n",
            "Epoch 67/100, Loss: nan\n",
            "Epoch 68/100, Loss: nan\n",
            "Epoch 69/100, Loss: nan\n",
            "Epoch 70/100, Loss: nan\n",
            "Epoch 71/100, Loss: nan\n",
            "Epoch 72/100, Loss: nan\n",
            "Epoch 73/100, Loss: nan\n",
            "Epoch 74/100, Loss: nan\n",
            "Epoch 75/100, Loss: nan\n",
            "Epoch 76/100, Loss: nan\n",
            "Epoch 77/100, Loss: nan\n",
            "Epoch 78/100, Loss: nan\n",
            "Epoch 79/100, Loss: nan\n",
            "Epoch 80/100, Loss: nan\n",
            "Epoch 81/100, Loss: nan\n",
            "Epoch 82/100, Loss: nan\n",
            "Epoch 83/100, Loss: nan\n",
            "Epoch 84/100, Loss: nan\n",
            "Epoch 85/100, Loss: nan\n",
            "Epoch 86/100, Loss: nan\n",
            "Epoch 87/100, Loss: nan\n",
            "Epoch 88/100, Loss: nan\n",
            "Epoch 89/100, Loss: nan\n",
            "Epoch 90/100, Loss: nan\n",
            "Epoch 91/100, Loss: nan\n",
            "Epoch 92/100, Loss: nan\n",
            "Epoch 93/100, Loss: nan\n",
            "Epoch 94/100, Loss: nan\n",
            "Epoch 95/100, Loss: nan\n",
            "Epoch 96/100, Loss: nan\n",
            "Epoch 97/100, Loss: nan\n",
            "Epoch 98/100, Loss: nan\n",
            "Epoch 99/100, Loss: nan\n",
            "Epoch 100/100, Loss: nan\n"
          ],
          "name": "stdout"
        }
      ]
    },
    {
      "cell_type": "code",
      "metadata": {
        "id": "JpzTon5R43NG",
        "colab_type": "code",
        "colab": {
          "base_uri": "https://localhost:8080/",
          "height": 276
        },
        "outputId": "5443588c-a31c-42cf-facf-2792e7a97b23"
      },
      "source": [
        "plt.plot(losses);"
      ],
      "execution_count": 33,
      "outputs": [
        {
          "output_type": "display_data",
          "data": {
            "image/png": "[encoded data removed]",
            "text/plain": [
              "<Figure size 432x288 with 1 Axes>"
            ]
          },
          "metadata": {
            "tags": [],
            "needs_background": "light"
          }
        }
      ]
    },
    {
      "cell_type": "code",
      "metadata": {
        "id": "GqA0cDLg480N",
        "colab_type": "code",
        "colab": {
          "base_uri": "https://localhost:8080/",
          "height": 265
        },
        "outputId": "8f4325c9-7be5-4be6-f273-59f004ef3e6b"
      },
      "source": [
        "predicted = model(torch.from_numpy(X)).detach().numpy()\n",
        "plt.plot(X, Y, 'ro', label = 'Original Data')\n",
        "plt.plot(X, predicted, label = 'Fitted Line')\n",
        "plt.legend()\n",
        "plt.show()"
      ],
      "execution_count": 18,
      "outputs": [
        {
          "output_type": "display_data",
          "data": {
            "image/png": "[encoded data removed]",
            "text/plain": [
              "<Figure size 432x288 with 1 Axes>"
            ]
          },
          "metadata": {
            "tags": [],
            "needs_background": "light"
          }
        }
      ]
    },
    {
      "cell_type": "code",
      "metadata": {
        "id": "czuzCASR5cMk",
        "colab_type": "code",
        "colab": {
          "base_uri": "https://localhost:8080/",
          "height": 34
        },
        "outputId": "ad84fa6d-959f-4d88-b3ca-ded02c8f565c"
      },
      "source": [
        "w = model.weight.data.numpy()\n",
        "print(w)"
      ],
      "execution_count": 19,
      "outputs": [
        {
          "output_type": "stream",
          "text": [
            "[[0.9805711]]\n"
          ],
          "name": "stdout"
        }
      ]
    }
  ]
}