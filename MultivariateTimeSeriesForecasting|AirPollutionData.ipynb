{
  "nbformat": 4,
  "nbformat_minor": 0,
  "metadata": {
    "colab": {
      "name": "MultivariateTimeSeriesForecasting|AirPollutionData.ipynb",
      "provenance": [],
      "authorship_tag": "ABX9TyP3WmBKJIwul2P27IXHmz3G",
      "include_colab_link": true
    },
    "kernelspec": {
      "name": "python3",
      "display_name": "Python 3"
    }
  },
  "cells": [
    {
      "cell_type": "markdown",
      "metadata": {
        "id": "view-in-github",
        "colab_type": "text"
      },
      "source": [
        "<a href=\"https://colab.research.google.com/github/sarthak221995/100DaysOfMLCode/blob/master/MultivariateTimeSeriesForecasting%7CAirPollutionData.ipynb\" target=\"_parent\"><img src=\"https://colab.research.google.com/assets/colab-badge.svg\" alt=\"Open In Colab\"/></a>"
      ]
    },
    {
      "cell_type": "code",
      "metadata": {
        "id": "IvbkHDoU_iVT",
        "colab_type": "code",
        "colab": {}
      },
      "source": [
        "#Download DataSet\n",
        "!wget https://raw.githubusercontent.com/jbrownlee/Datasets/master/pollution.csv"
      ],
      "execution_count": 0,
      "outputs": []
    },
    {
      "cell_type": "code",
      "metadata": {
        "id": "2TTAAkcQAY1V",
        "colab_type": "code",
        "colab": {
          "base_uri": "https://localhost:8080/",
          "height": 204
        },
        "outputId": "ae886020-79b6-46e3-e9f7-b31e0e12d8da"
      },
      "source": [
        "#Read Data\n",
        "import pandas as pd\n",
        "df=pd.read_csv(\"pollution.csv\")\n",
        "df.head()"
      ],
      "execution_count": 3,
      "outputs": [
        {
          "output_type": "execute_result",
          "data": {
            "text/html": [
              "<div>\n",
              "<style scoped>\n",
              "    .dataframe tbody tr th:only-of-type {\n",
              "        vertical-align: middle;\n",
              "    }\n",
              "\n",
              "    .dataframe tbody tr th {\n",
              "        vertical-align: top;\n",
              "    }\n",
              "\n",
              "    .dataframe thead th {\n",
              "        text-align: right;\n",
              "    }\n",
              "</style>\n",
              "<table border=\"1\" class=\"dataframe\">\n",
              "  <thead>\n",
              "    <tr style=\"text-align: right;\">\n",
              "      <th></th>\n",
              "      <th>No</th>\n",
              "      <th>year</th>\n",
              "      <th>month</th>\n",
              "      <th>day</th>\n",
              "      <th>hour</th>\n",
              "      <th>pm2.5</th>\n",
              "      <th>DEWP</th>\n",
              "      <th>TEMP</th>\n",
              "      <th>PRES</th>\n",
              "      <th>cbwd</th>\n",
              "      <th>Iws</th>\n",
              "      <th>Is</th>\n",
              "      <th>Ir</th>\n",
              "    </tr>\n",
              "  </thead>\n",
              "  <tbody>\n",
              "    <tr>\n",
              "      <th>0</th>\n",
              "      <td>1</td>\n",
              "      <td>2010</td>\n",
              "      <td>1</td>\n",
              "      <td>1</td>\n",
              "      <td>0</td>\n",
              "      <td>NaN</td>\n",
              "      <td>-21</td>\n",
              "      <td>-11.0</td>\n",
              "      <td>1021.0</td>\n",
              "      <td>NW</td>\n",
              "      <td>1.79</td>\n",
              "      <td>0</td>\n",
              "      <td>0</td>\n",
              "    </tr>\n",
              "    <tr>\n",
              "      <th>1</th>\n",
              "      <td>2</td>\n",
              "      <td>2010</td>\n",
              "      <td>1</td>\n",
              "      <td>1</td>\n",
              "      <td>1</td>\n",
              "      <td>NaN</td>\n",
              "      <td>-21</td>\n",
              "      <td>-12.0</td>\n",
              "      <td>1020.0</td>\n",
              "      <td>NW</td>\n",
              "      <td>4.92</td>\n",
              "      <td>0</td>\n",
              "      <td>0</td>\n",
              "    </tr>\n",
              "    <tr>\n",
              "      <th>2</th>\n",
              "      <td>3</td>\n",
              "      <td>2010</td>\n",
              "      <td>1</td>\n",
              "      <td>1</td>\n",
              "      <td>2</td>\n",
              "      <td>NaN</td>\n",
              "      <td>-21</td>\n",
              "      <td>-11.0</td>\n",
              "      <td>1019.0</td>\n",
              "      <td>NW</td>\n",
              "      <td>6.71</td>\n",
              "      <td>0</td>\n",
              "      <td>0</td>\n",
              "    </tr>\n",
              "    <tr>\n",
              "      <th>3</th>\n",
              "      <td>4</td>\n",
              "      <td>2010</td>\n",
              "      <td>1</td>\n",
              "      <td>1</td>\n",
              "      <td>3</td>\n",
              "      <td>NaN</td>\n",
              "      <td>-21</td>\n",
              "      <td>-14.0</td>\n",
              "      <td>1019.0</td>\n",
              "      <td>NW</td>\n",
              "      <td>9.84</td>\n",
              "      <td>0</td>\n",
              "      <td>0</td>\n",
              "    </tr>\n",
              "    <tr>\n",
              "      <th>4</th>\n",
              "      <td>5</td>\n",
              "      <td>2010</td>\n",
              "      <td>1</td>\n",
              "      <td>1</td>\n",
              "      <td>4</td>\n",
              "      <td>NaN</td>\n",
              "      <td>-20</td>\n",
              "      <td>-12.0</td>\n",
              "      <td>1018.0</td>\n",
              "      <td>NW</td>\n",
              "      <td>12.97</td>\n",
              "      <td>0</td>\n",
              "      <td>0</td>\n",
              "    </tr>\n",
              "  </tbody>\n",
              "</table>\n",
              "</div>"
            ],
            "text/plain": [
              "   No  year  month  day  hour  pm2.5  DEWP  TEMP    PRES cbwd    Iws  Is  Ir\n",
              "0   1  2010      1    1     0    NaN   -21 -11.0  1021.0   NW   1.79   0   0\n",
              "1   2  2010      1    1     1    NaN   -21 -12.0  1020.0   NW   4.92   0   0\n",
              "2   3  2010      1    1     2    NaN   -21 -11.0  1019.0   NW   6.71   0   0\n",
              "3   4  2010      1    1     3    NaN   -21 -14.0  1019.0   NW   9.84   0   0\n",
              "4   5  2010      1    1     4    NaN   -20 -12.0  1018.0   NW  12.97   0   0"
            ]
          },
          "metadata": {
            "tags": []
          },
          "execution_count": 3
        }
      ]
    },
    {
      "cell_type": "code",
      "metadata": {
        "id": "d7u3w3KaAZG5",
        "colab_type": "code",
        "colab": {
          "base_uri": "https://localhost:8080/",
          "height": 136
        },
        "outputId": "08b59ce6-c277-4c27-dfff-b638a8a1ff8d"
      },
      "source": [
        "from pandas import read_csv\n",
        "from datetime import datetime\n",
        "# load data\n",
        "def parse(x):\n",
        "\treturn datetime.strptime(x, '%Y %m %d %H')\n",
        "dataset = read_csv(\"pollution.csv\",  parse_dates = [['year', 'month', 'day', 'hour']], index_col=0, date_parser=parse)\n",
        "dataset.drop('No', axis=1, inplace=True)\n",
        "# manually specify column names\n",
        "dataset.columns = ['pollution', 'dew', 'temp', 'press', 'wnd_dir', 'wnd_spd', 'snow', 'rain']\n",
        "dataset.index.name = 'date'\n",
        "# mark all NA values with 0\n",
        "dataset['pollution'].fillna(0, inplace=True)\n",
        "# drop the first 24 hours\n",
        "dataset = dataset[24:]\n",
        "# summarize first 5 rows\n",
        "print(dataset.head(5))\n",
        "# save to file\n",
        "dataset.to_csv('pollution.csv')"
      ],
      "execution_count": 7,
      "outputs": [
        {
          "output_type": "stream",
          "text": [
            "                     pollution  dew  temp   press wnd_dir  wnd_spd  snow  rain\n",
            "date                                                                          \n",
            "2010-01-02 00:00:00      129.0  -16  -4.0  1020.0      SE     1.79     0     0\n",
            "2010-01-02 01:00:00      148.0  -15  -4.0  1020.0      SE     2.68     0     0\n",
            "2010-01-02 02:00:00      159.0  -11  -5.0  1021.0      SE     3.57     0     0\n",
            "2010-01-02 03:00:00      181.0   -7  -5.0  1022.0      SE     5.36     1     0\n",
            "2010-01-02 04:00:00      138.0   -7  -5.0  1022.0      SE     6.25     2     0\n"
          ],
          "name": "stdout"
        }
      ]
    },
    {
      "cell_type": "code",
      "metadata": {
        "id": "XAbyMDXfBrSl",
        "colab_type": "code",
        "colab": {
          "base_uri": "https://localhost:8080/",
          "height": 268
        },
        "outputId": "3c675482-0406-4288-b4b3-ba2d20f6003d"
      },
      "source": [
        "from pandas import read_csv\n",
        "from matplotlib import pyplot\n",
        "# load dataset\n",
        "dataset = read_csv('pollution.csv', header=0, index_col=0)\n",
        "values = dataset.values\n",
        "# specify columns to plot\n",
        "groups = [0, 1, 2, 3, 5, 6, 7]\n",
        "i = 1\n",
        "# plot each column\n",
        "pyplot.figure()\n",
        "for group in groups:\n",
        "\tpyplot.subplot(len(groups), 1, i)\n",
        "\tpyplot.plot(values[:, group])\n",
        "\tpyplot.title(dataset.columns[group], y=0.5, loc='right')\n",
        "\ti += 1\n",
        "pyplot.show()"
      ],
      "execution_count": 9,
      "outputs": [
        {
          "output_type": "display_data",
          "data": {
            "image/png": "[encoded data removed]",
            "text/plain": [
              "<Figure size 432x288 with 7 Axes>"
            ]
          },
          "metadata": {
            "tags": [],
            "needs_background": "light"
          }
        }
      ]
    },
    {
      "cell_type": "code",
      "metadata": {
        "id": "ngZkz0AvCI1J",
        "colab_type": "code",
        "colab": {}
      },
      "source": [
        ""
      ],
      "execution_count": 0,
      "outputs": []
    },
    {
      "cell_type": "code",
      "metadata": {
        "id": "hlguIsbkCJCx",
        "colab_type": "code",
        "colab": {}
      },
      "source": [
        ""
      ],
      "execution_count": 0,
      "outputs": []
    },
    {
      "cell_type": "code",
      "metadata": {
        "id": "R22-GE4vCJRB",
        "colab_type": "code",
        "colab": {}
      },
      "source": [
        ""
      ],
      "execution_count": 0,
      "outputs": []
    },
    {
      "cell_type": "code",
      "metadata": {
        "id": "EWYN3_VDCJiJ",
        "colab_type": "code",
        "colab": {
          "base_uri": "https://localhost:8080/",
          "height": 1000
        },
        "outputId": "f33c084d-326c-4a17-e536-dff0e9b0e443"
      },
      "source": [
        "from math import sqrt\n",
        "from numpy import concatenate\n",
        "from matplotlib import pyplot\n",
        "from pandas import read_csv\n",
        "from pandas import DataFrame\n",
        "from pandas import concat\n",
        "from sklearn.preprocessing import MinMaxScaler\n",
        "from sklearn.preprocessing import LabelEncoder\n",
        "from sklearn.metrics import mean_squared_error\n",
        "from keras.models import Sequential\n",
        "from keras.layers import Dense\n",
        "from keras.layers import LSTM\n",
        " \n",
        "# convert series to supervised learning\n",
        "def series_to_supervised(data, n_in=1, n_out=1, dropnan=True):\n",
        "\tn_vars = 1 if type(data) is list else data.shape[1]\n",
        "\tdf = DataFrame(data)\n",
        "\tcols, names = list(), list()\n",
        "\t# input sequence (t-n, ... t-1)\n",
        "\tfor i in range(n_in, 0, -1):\n",
        "\t\tcols.append(df.shift(i))\n",
        "\t\tnames += [('var%d(t-%d)' % (j+1, i)) for j in range(n_vars)]\n",
        "\t# forecast sequence (t, t+1, ... t+n)\n",
        "\tfor i in range(0, n_out):\n",
        "\t\tcols.append(df.shift(-i))\n",
        "\t\tif i == 0:\n",
        "\t\t\tnames += [('var%d(t)' % (j+1)) for j in range(n_vars)]\n",
        "\t\telse:\n",
        "\t\t\tnames += [('var%d(t+%d)' % (j+1, i)) for j in range(n_vars)]\n",
        "\t# put it all together\n",
        "\tagg = concat(cols, axis=1)\n",
        "\tagg.columns = names\n",
        "\t# drop rows with NaN values\n",
        "\tif dropnan:\n",
        "\t\tagg.dropna(inplace=True)\n",
        "\treturn agg\n",
        " \n",
        "# load dataset\n",
        "dataset = read_csv('pollution.csv', header=0, index_col=0)\n",
        "values = dataset.values\n",
        "# integer encode direction\n",
        "encoder = LabelEncoder()\n",
        "values[:,4] = encoder.fit_transform(values[:,4])\n",
        "# ensure all data is float\n",
        "values = values.astype('float32')\n",
        "# normalize features\n",
        "scaler = MinMaxScaler(feature_range=(0, 1))\n",
        "scaled = scaler.fit_transform(values)\n",
        "# frame as supervised learning\n",
        "reframed = series_to_supervised(scaled, 1, 1)\n",
        "# drop columns we don't want to predict\n",
        "reframed.drop(reframed.columns[[9,10,11,12,13,14,15]], axis=1, inplace=True)\n",
        "print(reframed.head())\n",
        " \n",
        "# split into train and test sets\n",
        "values = reframed.values\n",
        "n_train_hours = 365 * 24\n",
        "train = values[:n_train_hours, :]\n",
        "test = values[n_train_hours:, :]\n",
        "# split into input and outputs\n",
        "train_X, train_y = train[:, :-1], train[:, -1]\n",
        "test_X, test_y = test[:, :-1], test[:, -1]\n",
        "# reshape input to be 3D [samples, timesteps, features]\n",
        "train_X = train_X.reshape((train_X.shape[0], 1, train_X.shape[1]))\n",
        "test_X = test_X.reshape((test_X.shape[0], 1, test_X.shape[1]))\n",
        "print(train_X.shape, train_y.shape, test_X.shape, test_y.shape)\n",
        " \n",
        "# design network\n",
        "model = Sequential()\n",
        "model.add(LSTM(50, input_shape=(train_X.shape[1], train_X.shape[2])))\n",
        "model.add(Dense(1))\n",
        "model.compile(loss='mae', optimizer='adam')\n",
        "# fit network\n",
        "history = model.fit(train_X, train_y, epochs=50, batch_size=72, validation_data=(test_X, test_y), verbose=2, shuffle=False)\n",
        "# plot history\n",
        "pyplot.plot(history.history['loss'], label='train')\n",
        "pyplot.plot(history.history['val_loss'], label='test')\n",
        "pyplot.legend()\n",
        "pyplot.show()\n",
        " \n",
        "# make a prediction\n",
        "yhat = model.predict(test_X)\n",
        "test_X = test_X.reshape((test_X.shape[0], test_X.shape[2]))\n",
        "# invert scaling for forecast\n",
        "inv_yhat = concatenate((yhat, test_X[:, 1:]), axis=1)\n",
        "inv_yhat = scaler.inverse_transform(inv_yhat)\n",
        "inv_yhat = inv_yhat[:,0]\n",
        "# invert scaling for actual\n",
        "test_y = test_y.reshape((len(test_y), 1))\n",
        "inv_y = concatenate((test_y, test_X[:, 1:]), axis=1)\n",
        "inv_y = scaler.inverse_transform(inv_y)\n",
        "inv_y = inv_y[:,0]\n",
        "# calculate RMSE\n",
        "rmse = sqrt(mean_squared_error(inv_y, inv_yhat))\n",
        "print('Test RMSE: %.3f' % rmse)"
      ],
      "execution_count": 11,
      "outputs": [
        {
          "output_type": "stream",
          "text": [
            "Using TensorFlow backend.\n"
          ],
          "name": "stderr"
        },
        {
          "output_type": "stream",
          "text": [
            "   var1(t-1)  var2(t-1)  var3(t-1)  ...  var7(t-1)  var8(t-1)   var1(t)\n",
            "1   0.129779   0.352941   0.245902  ...   0.000000        0.0  0.148893\n",
            "2   0.148893   0.367647   0.245902  ...   0.000000        0.0  0.159960\n",
            "3   0.159960   0.426471   0.229508  ...   0.000000        0.0  0.182093\n",
            "4   0.182093   0.485294   0.229508  ...   0.037037        0.0  0.138833\n",
            "5   0.138833   0.485294   0.229508  ...   0.074074        0.0  0.109658\n",
            "\n",
            "[5 rows x 9 columns]\n",
            "(8760, 1, 8) (8760,) (35039, 1, 8) (35039,)\n",
            "Train on 8760 samples, validate on 35039 samples\n",
            "Epoch 1/50\n",
            " - 1s - loss: 0.0572 - val_loss: 0.0542\n",
            "Epoch 2/50\n",
            " - 1s - loss: 0.0412 - val_loss: 0.0567\n",
            "Epoch 3/50\n",
            " - 1s - loss: 0.0250 - val_loss: 0.0510\n",
            "Epoch 4/50\n",
            " - 1s - loss: 0.0182 - val_loss: 0.0463\n",
            "Epoch 5/50\n",
            " - 1s - loss: 0.0163 - val_loss: 0.0321\n",
            "Epoch 6/50\n",
            " - 1s - loss: 0.0153 - val_loss: 0.0220\n",
            "Epoch 7/50\n",
            " - 1s - loss: 0.0151 - val_loss: 0.0190\n",
            "Epoch 8/50\n",
            " - 1s - loss: 0.0149 - val_loss: 0.0175\n",
            "Epoch 9/50\n",
            " - 1s - loss: 0.0149 - val_loss: 0.0162\n",
            "Epoch 10/50\n",
            " - 1s - loss: 0.0148 - val_loss: 0.0146\n",
            "Epoch 11/50\n",
            " - 1s - loss: 0.0147 - val_loss: 0.0144\n",
            "Epoch 12/50\n",
            " - 1s - loss: 0.0148 - val_loss: 0.0140\n",
            "Epoch 13/50\n",
            " - 1s - loss: 0.0146 - val_loss: 0.0139\n",
            "Epoch 14/50\n",
            " - 1s - loss: 0.0146 - val_loss: 0.0140\n",
            "Epoch 15/50\n",
            " - 1s - loss: 0.0146 - val_loss: 0.0141\n",
            "Epoch 16/50\n",
            " - 1s - loss: 0.0146 - val_loss: 0.0137\n",
            "Epoch 17/50\n",
            " - 1s - loss: 0.0146 - val_loss: 0.0138\n",
            "Epoch 18/50\n",
            " - 1s - loss: 0.0146 - val_loss: 0.0136\n",
            "Epoch 19/50\n",
            " - 1s - loss: 0.0146 - val_loss: 0.0135\n",
            "Epoch 20/50\n",
            " - 1s - loss: 0.0146 - val_loss: 0.0135\n",
            "Epoch 21/50\n",
            " - 1s - loss: 0.0146 - val_loss: 0.0137\n",
            "Epoch 22/50\n",
            " - 1s - loss: 0.0146 - val_loss: 0.0135\n",
            "Epoch 23/50\n",
            " - 1s - loss: 0.0145 - val_loss: 0.0135\n",
            "Epoch 24/50\n",
            " - 1s - loss: 0.0145 - val_loss: 0.0135\n",
            "Epoch 25/50\n",
            " - 1s - loss: 0.0145 - val_loss: 0.0134\n",
            "Epoch 26/50\n",
            " - 1s - loss: 0.0144 - val_loss: 0.0136\n",
            "Epoch 27/50\n",
            " - 1s - loss: 0.0145 - val_loss: 0.0134\n",
            "Epoch 28/50\n",
            " - 1s - loss: 0.0144 - val_loss: 0.0135\n",
            "Epoch 29/50\n",
            " - 1s - loss: 0.0144 - val_loss: 0.0135\n",
            "Epoch 30/50\n",
            " - 1s - loss: 0.0144 - val_loss: 0.0134\n",
            "Epoch 31/50\n",
            " - 1s - loss: 0.0145 - val_loss: 0.0133\n",
            "Epoch 32/50\n",
            " - 1s - loss: 0.0145 - val_loss: 0.0133\n",
            "Epoch 33/50\n",
            " - 1s - loss: 0.0144 - val_loss: 0.0138\n",
            "Epoch 34/50\n",
            " - 1s - loss: 0.0146 - val_loss: 0.0134\n",
            "Epoch 35/50\n",
            " - 1s - loss: 0.0144 - val_loss: 0.0134\n",
            "Epoch 36/50\n",
            " - 1s - loss: 0.0143 - val_loss: 0.0134\n",
            "Epoch 37/50\n",
            " - 1s - loss: 0.0144 - val_loss: 0.0134\n",
            "Epoch 38/50\n",
            " - 1s - loss: 0.0144 - val_loss: 0.0134\n",
            "Epoch 39/50\n",
            " - 1s - loss: 0.0144 - val_loss: 0.0134\n",
            "Epoch 40/50\n",
            " - 1s - loss: 0.0143 - val_loss: 0.0134\n",
            "Epoch 41/50\n",
            " - 1s - loss: 0.0144 - val_loss: 0.0133\n",
            "Epoch 42/50\n",
            " - 1s - loss: 0.0144 - val_loss: 0.0133\n",
            "Epoch 43/50\n",
            " - 1s - loss: 0.0144 - val_loss: 0.0134\n",
            "Epoch 44/50\n",
            " - 1s - loss: 0.0144 - val_loss: 0.0134\n",
            "Epoch 45/50\n",
            " - 1s - loss: 0.0146 - val_loss: 0.0133\n",
            "Epoch 46/50\n",
            " - 1s - loss: 0.0144 - val_loss: 0.0134\n",
            "Epoch 47/50\n",
            " - 1s - loss: 0.0143 - val_loss: 0.0133\n",
            "Epoch 48/50\n",
            " - 1s - loss: 0.0144 - val_loss: 0.0133\n",
            "Epoch 49/50\n",
            " - 1s - loss: 0.0144 - val_loss: 0.0133\n",
            "Epoch 50/50\n",
            " - 1s - loss: 0.0143 - val_loss: 0.0134\n"
          ],
          "name": "stdout"
        },
        {
          "output_type": "display_data",
          "data": {
            "image/png": "[encoded data removed]",
            "text/plain": [
              "<Figure size 432x288 with 1 Axes>"
            ]
          },
          "metadata": {
            "tags": [],
            "needs_background": "light"
          }
        },
        {
          "output_type": "stream",
          "text": [
            "Test RMSE: 26.463\n"
          ],
          "name": "stdout"
        }
      ]
    },
    {
      "cell_type": "code",
      "metadata": {
        "id": "3BzE7bf_CfTp",
        "colab_type": "code",
        "colab": {
          "base_uri": "https://localhost:8080/",
          "height": 1000
        },
        "outputId": "0cc502c0-747e-43d5-f07e-4b35780ded91"
      },
      "source": [
        "from math import sqrt\n",
        "from numpy import concatenate\n",
        "from matplotlib import pyplot\n",
        "from pandas import read_csv\n",
        "from pandas import DataFrame\n",
        "from pandas import concat\n",
        "from sklearn.preprocessing import MinMaxScaler\n",
        "from sklearn.preprocessing import LabelEncoder\n",
        "from sklearn.metrics import mean_squared_error\n",
        "from keras.models import Sequential\n",
        "from keras.layers import Dense\n",
        "from keras.layers import LSTM\n",
        " \n",
        "# convert series to supervised learning\n",
        "def series_to_supervised(data, n_in=1, n_out=1, dropnan=True):\n",
        "\tn_vars = 1 if type(data) is list else data.shape[1]\n",
        "\tdf = DataFrame(data)\n",
        "\tcols, names = list(), list()\n",
        "\t# input sequence (t-n, ... t-1)\n",
        "\tfor i in range(n_in, 0, -1):\n",
        "\t\tcols.append(df.shift(i))\n",
        "\t\tnames += [('var%d(t-%d)' % (j+1, i)) for j in range(n_vars)]\n",
        "\t# forecast sequence (t, t+1, ... t+n)\n",
        "\tfor i in range(0, n_out):\n",
        "\t\tcols.append(df.shift(-i))\n",
        "\t\tif i == 0:\n",
        "\t\t\tnames += [('var%d(t)' % (j+1)) for j in range(n_vars)]\n",
        "\t\telse:\n",
        "\t\t\tnames += [('var%d(t+%d)' % (j+1, i)) for j in range(n_vars)]\n",
        "\t# put it all together\n",
        "\tagg = concat(cols, axis=1)\n",
        "\tagg.columns = names\n",
        "\t# drop rows with NaN values\n",
        "\tif dropnan:\n",
        "\t\tagg.dropna(inplace=True)\n",
        "\treturn agg\n",
        " \n",
        "# load dataset\n",
        "dataset = read_csv('pollution.csv', header=0, index_col=0)\n",
        "values = dataset.values\n",
        "# integer encode direction\n",
        "encoder = LabelEncoder()\n",
        "values[:,4] = encoder.fit_transform(values[:,4])\n",
        "# ensure all data is float\n",
        "values = values.astype('float32')\n",
        "# normalize features\n",
        "scaler = MinMaxScaler(feature_range=(0, 1))\n",
        "scaled = scaler.fit_transform(values)\n",
        "# frame as supervised learning\n",
        "reframed = series_to_supervised(scaled, 1, 1)\n",
        "# drop columns we don't want to predict\n",
        "reframed.drop(reframed.columns[[9,10,11,12,13,14,15]], axis=1, inplace=True)\n",
        "print(reframed.head())\n",
        " \n",
        "# split into train and test sets\n",
        "values = reframed.values\n",
        "n_train_hours = 365 * 24\n",
        "train = values[:n_train_hours, :]\n",
        "test = values[n_train_hours:, :]\n",
        "# split into input and outputs\n",
        "train_X, train_y = train[:, :-1], train[:, -1]\n",
        "test_X, test_y = test[:, :-1], test[:, -1]\n",
        "# reshape input to be 3D [samples, timesteps, features]\n",
        "train_X = train_X.reshape((train_X.shape[0], 1, train_X.shape[1]))\n",
        "test_X = test_X.reshape((test_X.shape[0], 1, test_X.shape[1]))\n",
        "print(train_X.shape, train_y.shape, test_X.shape, test_y.shape)\n",
        " \n",
        "# design network\n",
        "model = Sequential()\n",
        "model.add(LSTM(50, input_shape=(train_X.shape[1], train_X.shape[2])))\n",
        "model.add(Dense(1))\n",
        "model.compile(loss='mae', optimizer='adam')\n",
        "# fit network\n",
        "history = model.fit(train_X, train_y, epochs=50, batch_size=72, validation_data=(test_X, test_y), verbose=2, shuffle=False)\n",
        "# plot history\n",
        "pyplot.plot(history.history['loss'], label='train')\n",
        "pyplot.plot(history.history['val_loss'], label='test')\n",
        "pyplot.legend()\n",
        "pyplot.show()\n",
        " \n",
        "# make a prediction\n",
        "yhat = model.predict(test_X)\n",
        "test_X = test_X.reshape((test_X.shape[0], test_X.shape[2]))\n",
        "# invert scaling for forecast\n",
        "inv_yhat = concatenate((yhat, test_X[:, 1:]), axis=1)\n",
        "inv_yhat = scaler.inverse_transform(inv_yhat)\n",
        "inv_yhat = inv_yhat[:,0]\n",
        "# invert scaling for actual\n",
        "test_y = test_y.reshape((len(test_y), 1))\n",
        "inv_y = concatenate((test_y, test_X[:, 1:]), axis=1)\n",
        "inv_y = scaler.inverse_transform(inv_y)\n",
        "inv_y = inv_y[:,0]\n",
        "# calculate RMSE\n",
        "rmse = sqrt(mean_squared_error(inv_y, inv_yhat))\n",
        "print('Test RMSE: %.3f' % rmse)"
      ],
      "execution_count": 12,
      "outputs": [
        {
          "output_type": "stream",
          "text": [
            "   var1(t-1)  var2(t-1)  var3(t-1)  ...  var7(t-1)  var8(t-1)   var1(t)\n",
            "1   0.129779   0.352941   0.245902  ...   0.000000        0.0  0.148893\n",
            "2   0.148893   0.367647   0.245902  ...   0.000000        0.0  0.159960\n",
            "3   0.159960   0.426471   0.229508  ...   0.000000        0.0  0.182093\n",
            "4   0.182093   0.485294   0.229508  ...   0.037037        0.0  0.138833\n",
            "5   0.138833   0.485294   0.229508  ...   0.074074        0.0  0.109658\n",
            "\n",
            "[5 rows x 9 columns]\n",
            "(8760, 1, 8) (8760,) (35039, 1, 8) (35039,)\n",
            "Train on 8760 samples, validate on 35039 samples\n",
            "Epoch 1/50\n",
            " - 1s - loss: 0.0602 - val_loss: 0.0493\n",
            "Epoch 2/50\n",
            " - 1s - loss: 0.0422 - val_loss: 0.0443\n",
            "Epoch 3/50\n",
            " - 1s - loss: 0.0241 - val_loss: 0.0345\n",
            "Epoch 4/50\n",
            " - 1s - loss: 0.0169 - val_loss: 0.0267\n",
            "Epoch 5/50\n",
            " - 1s - loss: 0.0154 - val_loss: 0.0173\n",
            "Epoch 6/50\n",
            " - 1s - loss: 0.0148 - val_loss: 0.0149\n",
            "Epoch 7/50\n",
            " - 1s - loss: 0.0147 - val_loss: 0.0148\n",
            "Epoch 8/50\n",
            " - 1s - loss: 0.0149 - val_loss: 0.0147\n",
            "Epoch 9/50\n",
            " - 1s - loss: 0.0149 - val_loss: 0.0141\n",
            "Epoch 10/50\n",
            " - 1s - loss: 0.0145 - val_loss: 0.0138\n",
            "Epoch 11/50\n",
            " - 1s - loss: 0.0146 - val_loss: 0.0136\n",
            "Epoch 12/50\n",
            " - 1s - loss: 0.0146 - val_loss: 0.0136\n",
            "Epoch 13/50\n",
            " - 1s - loss: 0.0146 - val_loss: 0.0136\n",
            "Epoch 14/50\n",
            " - 1s - loss: 0.0145 - val_loss: 0.0135\n",
            "Epoch 15/50\n",
            " - 1s - loss: 0.0146 - val_loss: 0.0137\n",
            "Epoch 16/50\n",
            " - 1s - loss: 0.0146 - val_loss: 0.0135\n",
            "Epoch 17/50\n",
            " - 1s - loss: 0.0144 - val_loss: 0.0135\n",
            "Epoch 18/50\n",
            " - 1s - loss: 0.0145 - val_loss: 0.0134\n",
            "Epoch 19/50\n",
            " - 1s - loss: 0.0145 - val_loss: 0.0136\n",
            "Epoch 20/50\n",
            " - 1s - loss: 0.0144 - val_loss: 0.0134\n",
            "Epoch 21/50\n",
            " - 1s - loss: 0.0145 - val_loss: 0.0134\n",
            "Epoch 22/50\n",
            " - 1s - loss: 0.0144 - val_loss: 0.0134\n",
            "Epoch 23/50\n",
            " - 1s - loss: 0.0144 - val_loss: 0.0134\n",
            "Epoch 24/50\n",
            " - 1s - loss: 0.0145 - val_loss: 0.0134\n",
            "Epoch 25/50\n",
            " - 1s - loss: 0.0145 - val_loss: 0.0133\n",
            "Epoch 26/50\n",
            " - 1s - loss: 0.0144 - val_loss: 0.0134\n",
            "Epoch 27/50\n",
            " - 1s - loss: 0.0144 - val_loss: 0.0137\n",
            "Epoch 28/50\n",
            " - 1s - loss: 0.0145 - val_loss: 0.0135\n",
            "Epoch 29/50\n",
            " - 1s - loss: 0.0144 - val_loss: 0.0137\n",
            "Epoch 30/50\n",
            " - 1s - loss: 0.0145 - val_loss: 0.0135\n",
            "Epoch 31/50\n",
            " - 1s - loss: 0.0144 - val_loss: 0.0137\n",
            "Epoch 32/50\n",
            " - 1s - loss: 0.0144 - val_loss: 0.0136\n",
            "Epoch 33/50\n",
            " - 1s - loss: 0.0142 - val_loss: 0.0135\n",
            "Epoch 34/50\n",
            " - 1s - loss: 0.0144 - val_loss: 0.0135\n",
            "Epoch 35/50\n",
            " - 1s - loss: 0.0143 - val_loss: 0.0136\n",
            "Epoch 36/50\n",
            " - 1s - loss: 0.0144 - val_loss: 0.0136\n",
            "Epoch 37/50\n",
            " - 1s - loss: 0.0144 - val_loss: 0.0136\n",
            "Epoch 38/50\n",
            " - 1s - loss: 0.0144 - val_loss: 0.0134\n",
            "Epoch 39/50\n",
            " - 1s - loss: 0.0144 - val_loss: 0.0137\n",
            "Epoch 40/50\n",
            " - 1s - loss: 0.0144 - val_loss: 0.0135\n",
            "Epoch 41/50\n",
            " - 1s - loss: 0.0143 - val_loss: 0.0138\n",
            "Epoch 42/50\n",
            " - 1s - loss: 0.0144 - val_loss: 0.0135\n",
            "Epoch 43/50\n",
            " - 1s - loss: 0.0144 - val_loss: 0.0135\n",
            "Epoch 44/50\n",
            " - 1s - loss: 0.0143 - val_loss: 0.0137\n",
            "Epoch 45/50\n",
            " - 1s - loss: 0.0144 - val_loss: 0.0135\n",
            "Epoch 46/50\n",
            " - 1s - loss: 0.0144 - val_loss: 0.0135\n",
            "Epoch 47/50\n",
            " - 1s - loss: 0.0144 - val_loss: 0.0134\n",
            "Epoch 48/50\n",
            " - 1s - loss: 0.0143 - val_loss: 0.0134\n",
            "Epoch 49/50\n",
            " - 1s - loss: 0.0144 - val_loss: 0.0134\n",
            "Epoch 50/50\n",
            " - 1s - loss: 0.0143 - val_loss: 0.0134\n"
          ],
          "name": "stdout"
        },
        {
          "output_type": "display_data",
          "data": {
            "image/png": "[encoded data removed]",
            "text/plain": [
              "<Figure size 432x288 with 1 Axes>"
            ]
          },
          "metadata": {
            "tags": [],
            "needs_background": "light"
          }
        },
        {
          "output_type": "stream",
          "text": [
            "Test RMSE: 26.575\n"
          ],
          "name": "stdout"
        }
      ]
    },
    {
      "cell_type": "code",
      "metadata": {
        "id": "rI7wQuZwUAze",
        "colab_type": "code",
        "colab": {
          "base_uri": "https://localhost:8080/",
          "height": 51
        },
        "outputId": "a5c79164-0aa1-4489-e895-f41db9e0352e"
      },
      "source": [
        "# # make a prediction\n",
        "# yhat = model.predict(test_X)\n",
        "# test_X = test_X.reshape((test_X.shape[0], test_X.shape[2]))\n",
        "# invert scaling for forecast\n",
        "\n",
        "inv_yhat = concatenate((yhat, test_X[:, 1:]), axis=1)\n",
        "inv_yhat = scaler.inverse_transform(inv_yhat)\n",
        "inv_yhat = inv_yhat[:,0]\n",
        "# invert scaling for actual\n",
        "test_y = test_y.reshape((len(test_y), 1))\n",
        "inv_y = concatenate((test_y, test_X[:, 1:]), axis=1)\n",
        "inv_y = scaler.inverse_transform(inv_y)\n",
        "inv_y = inv_y[:,0]\n",
        "print(inv_yhat)\n",
        "# calculate RMSE\n",
        "rmse = sqrt(mean_squared_error(inv_y, inv_yhat))\n",
        "print('Test RMSE: %.3f' % rmse)"
      ],
      "execution_count": 17,
      "outputs": [
        {
          "output_type": "stream",
          "text": [
            "[34.52366  30.57461  19.830956 ...  8.694073  8.686576  6.887592]\n",
            "Test RMSE: 26.575\n"
          ],
          "name": "stdout"
        }
      ]
    },
    {
      "cell_type": "code",
      "metadata": {
        "id": "qn1B9E3uU3G1",
        "colab_type": "code",
        "colab": {}
      },
      "source": [
        "x = np.arange(132, 144, 1)\n",
        "print(x)"
      ],
      "execution_count": 0,
      "outputs": []
    },
    {
      "cell_type": "code",
      "metadata": {
        "id": "5JZZoPq8VAnm",
        "colab_type": "code",
        "colab": {
          "base_uri": "https://localhost:8080/",
          "height": 34
        },
        "outputId": "13b595fe-7d26-459c-a94d-36e14ba39201"
      },
      "source": [
        "len(inv_y)"
      ],
      "execution_count": 18,
      "outputs": [
        {
          "output_type": "execute_result",
          "data": {
            "text/plain": [
              "35039"
            ]
          },
          "metadata": {
            "tags": []
          },
          "execution_count": 18
        }
      ]
    },
    {
      "cell_type": "code",
      "metadata": {
        "id": "GIupWXjzUt1Q",
        "colab_type": "code",
        "colab": {}
      },
      "source": [
        "plt.title('Month vs Passenger')\n",
        "plt.ylabel('Total Passengers')\n",
        "plt.grid(True)\n",
        "plt.autoscale(axis='x', tight=True)\n",
        "plt.plot(inv_y)\n",
        "plt.plot(x,inv_yhat)\n",
        "plt.show()"
      ],
      "execution_count": 0,
      "outputs": []
    },
    {
      "cell_type": "markdown",
      "metadata": {
        "id": "10-lkcPNAZ07",
        "colab_type": "text"
      },
      "source": [
        "# Resources"
      ]
    },
    {
      "cell_type": "markdown",
      "metadata": {
        "id": "ZrJPKWtuAdWS",
        "colab_type": "text"
      },
      "source": [
        "https://machinelearningmastery.com/multivariate-time-series-forecasting-lstms-keras/"
      ]
    }
  ]
}